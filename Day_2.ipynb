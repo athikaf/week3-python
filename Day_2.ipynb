{
  "nbformat": 4,
  "nbformat_minor": 0,
  "metadata": {
    "colab": {
      "provenance": [],
      "collapsed_sections": [],
      "authorship_tag": "ABX9TyOzfTVJ3Idu0dfyeiUqMfNp",
      "include_colab_link": true
    },
    "kernelspec": {
      "name": "python3",
      "display_name": "Python 3"
    },
    "language_info": {
      "name": "python"
    }
  },
  "cells": [
    {
      "cell_type": "markdown",
      "metadata": {
        "id": "view-in-github",
        "colab_type": "text"
      },
      "source": [
        "<a href=\"https://colab.research.google.com/github/athikaf/week3-python/blob/main/Day_2.ipynb\" target=\"_parent\"><img src=\"https://colab.research.google.com/assets/colab-badge.svg\" alt=\"Open In Colab\"/></a>"
      ]
    },
    {
      "cell_type": "markdown",
      "source": [
        "**Numpy and Pandas**"
      ],
      "metadata": {
        "id": "jtckYYqUc4VN"
      }
    },
    {
      "cell_type": "code",
      "execution_count": 9,
      "metadata": {
        "colab": {
          "base_uri": "https://localhost:8080/"
        },
        "id": "JBRzJj6tczYW",
        "outputId": "34307d24-a171-4a78-b7f7-333e81904a38"
      },
      "outputs": [
        {
          "output_type": "stream",
          "name": "stdout",
          "text": [
            "[2.]\n"
          ]
        }
      ],
      "source": [
        "import numpy as np\n",
        "\n",
        "# arr = np.array([2,4,5,6,7,8])\n",
        "\n",
        "# print(arr)\n",
        "arr= np.array([])\n",
        "arr2= np.append(2 ,arr)\n",
        "print(arr2)"
      ]
    },
    {
      "cell_type": "code",
      "source": [
        "arr3= np.array((1,2,3,4,5,6))\n",
        "print(arr3)\n"
      ],
      "metadata": {
        "colab": {
          "base_uri": "https://localhost:8080/"
        },
        "id": "NjVqojrqhiqg",
        "outputId": "cde4ca75-4af7-4f51-bf2b-0cf881b32a22"
      },
      "execution_count": 10,
      "outputs": [
        {
          "output_type": "stream",
          "name": "stdout",
          "text": [
            "[1 2 3 4 5 6]\n"
          ]
        }
      ]
    },
    {
      "cell_type": "markdown",
      "source": [
        "2D ararys"
      ],
      "metadata": {
        "id": "NcX7EGb3h9nJ"
      }
    },
    {
      "cell_type": "code",
      "source": [
        "array4= np.array([[1,2,3],[4,5,6]])\n",
        "print(array4)\n",
        "print(array4[0,1])"
      ],
      "metadata": {
        "colab": {
          "base_uri": "https://localhost:8080/"
        },
        "id": "G6T3TwsVh-65",
        "outputId": "98a66db1-0406-43ca-cb41-bf4bde12eab4"
      },
      "execution_count": 20,
      "outputs": [
        {
          "output_type": "stream",
          "name": "stdout",
          "text": [
            "[[1 2 3]\n",
            " [4 5 6]]\n",
            "2\n"
          ]
        }
      ]
    },
    {
      "cell_type": "markdown",
      "source": [
        "3D arrays"
      ],
      "metadata": {
        "id": "9foFX6vxia59"
      }
    },
    {
      "cell_type": "code",
      "source": [
        "array5= np.array([[[1,2,3],[4,5,6]],[[1,2,3],[4,5,6]]])\n",
        "print(array5)\n",
        "\n",
        "# print(array5[0,1,2])"
      ],
      "metadata": {
        "colab": {
          "base_uri": "https://localhost:8080/"
        },
        "id": "HVH4nqUOidMz",
        "outputId": "12d5a222-3b0b-4355-8c5f-36dce823b09a"
      },
      "execution_count": 34,
      "outputs": [
        {
          "output_type": "stream",
          "name": "stdout",
          "text": [
            "[[[1 2 3]\n",
            "  [4 5 6]]\n",
            "\n",
            " [[1 2 3]\n",
            "  [4 5 6]]]\n"
          ]
        }
      ]
    },
    {
      "cell_type": "code",
      "source": [
        "print(array5.ndim)"
      ],
      "metadata": {
        "colab": {
          "base_uri": "https://localhost:8080/"
        },
        "id": "cg30ElALi3ol",
        "outputId": "ecdef176-d3c2-4962-ee22-eb3cd85cf6f3"
      },
      "execution_count": 14,
      "outputs": [
        {
          "output_type": "stream",
          "name": "stdout",
          "text": [
            "3\n"
          ]
        }
      ]
    },
    {
      "cell_type": "code",
      "source": [
        "print(arr.ndim)\n",
        "print(array4.ndim)"
      ],
      "metadata": {
        "colab": {
          "base_uri": "https://localhost:8080/"
        },
        "id": "oVCIbucdi9y_",
        "outputId": "68f96e7b-fbe2-4d79-e3c3-1b955535be72"
      },
      "execution_count": 15,
      "outputs": [
        {
          "output_type": "stream",
          "name": "stdout",
          "text": [
            "1\n",
            "2\n"
          ]
        }
      ]
    },
    {
      "cell_type": "markdown",
      "source": [
        "Array Indexing"
      ],
      "metadata": {
        "id": "SKOrEG9OjL8c"
      }
    },
    {
      "cell_type": "code",
      "source": [
        "arr[0]"
      ],
      "metadata": {
        "colab": {
          "base_uri": "https://localhost:8080/",
          "height": 165
        },
        "id": "zxUc1tj8jK_r",
        "outputId": "7f8edef6-6c5f-4c82-e457-55649bf0861c"
      },
      "execution_count": 16,
      "outputs": [
        {
          "output_type": "error",
          "ename": "IndexError",
          "evalue": "ignored",
          "traceback": [
            "\u001b[0;31m---------------------------------------------------------------------------\u001b[0m",
            "\u001b[0;31mIndexError\u001b[0m                                Traceback (most recent call last)",
            "\u001b[0;32m<ipython-input-16-d3e0db857085>\u001b[0m in \u001b[0;36m<module>\u001b[0;34m\u001b[0m\n\u001b[0;32m----> 1\u001b[0;31m \u001b[0marr\u001b[0m\u001b[0;34m[\u001b[0m\u001b[0;36m0\u001b[0m\u001b[0;34m]\u001b[0m\u001b[0;34m\u001b[0m\u001b[0;34m\u001b[0m\u001b[0m\n\u001b[0m",
            "\u001b[0;31mIndexError\u001b[0m: index 0 is out of bounds for axis 0 with size 0"
          ]
        }
      ]
    },
    {
      "cell_type": "code",
      "source": [
        "arr3[1]"
      ],
      "metadata": {
        "colab": {
          "base_uri": "https://localhost:8080/"
        },
        "id": "waYzpLvljX9-",
        "outputId": "7e1a6319-1a04-4166-de50-5450c9905b14"
      },
      "execution_count": 18,
      "outputs": [
        {
          "output_type": "execute_result",
          "data": {
            "text/plain": [
              "2"
            ]
          },
          "metadata": {},
          "execution_count": 18
        }
      ]
    },
    {
      "cell_type": "markdown",
      "source": [
        "Slicing [start:stop:step]"
      ],
      "metadata": {
        "id": "zMeYWAUCkg6K"
      }
    },
    {
      "cell_type": "code",
      "source": [
        "arr3= np.array((1,2,3,4,5,6))\n",
        "# print(arr3)\n",
        "# print(arr3[0:4])\n",
        "# print(arr3[0:5])\n",
        "print(arr3[::-1])"
      ],
      "metadata": {
        "colab": {
          "base_uri": "https://localhost:8080/"
        },
        "id": "Qoolbiy3jj0r",
        "outputId": "071569e6-43a6-48b4-9df2-989736e3ce65"
      },
      "execution_count": 24,
      "outputs": [
        {
          "output_type": "stream",
          "name": "stdout",
          "text": [
            "[6 5 4 3 2 1]\n"
          ]
        }
      ]
    },
    {
      "cell_type": "code",
      "source": [
        "array4= np.array([[1,2,3],[4,5,6]])\n",
        "print(array4)\n",
        "# print(array4[0,:])\n",
        "# print(array4[1,:])"
      ],
      "metadata": {
        "colab": {
          "base_uri": "https://localhost:8080/"
        },
        "id": "GF-AzzeClFot",
        "outputId": "0252b00b-bb43-4a03-9508-358666d1ee08"
      },
      "execution_count": 32,
      "outputs": [
        {
          "output_type": "stream",
          "name": "stdout",
          "text": [
            "[[1 2 3]\n",
            " [4 5 6]]\n"
          ]
        }
      ]
    },
    {
      "cell_type": "markdown",
      "source": [
        "Data Types"
      ],
      "metadata": {
        "id": "xKWaOVq5lnOe"
      }
    },
    {
      "cell_type": "code",
      "source": [
        "arr1= np.array([\"apple\",\"banana\",\"cat\",\"dog\"])\n",
        "print(arr1.dtype)"
      ],
      "metadata": {
        "colab": {
          "base_uri": "https://localhost:8080/"
        },
        "id": "U4C-kIQHlspS",
        "outputId": "225e3a77-1410-47aa-f04d-d3f00727c807"
      },
      "execution_count": 29,
      "outputs": [
        {
          "output_type": "stream",
          "name": "stdout",
          "text": [
            "<U6\n"
          ]
        }
      ]
    },
    {
      "cell_type": "code",
      "source": [
        "print(array4.dtype)"
      ],
      "metadata": {
        "colab": {
          "base_uri": "https://localhost:8080/"
        },
        "id": "tXvE7JFcmLIC",
        "outputId": "091ba8a2-48ba-49d0-ab04-59c204bc2868"
      },
      "execution_count": 30,
      "outputs": [
        {
          "output_type": "stream",
          "name": "stdout",
          "text": [
            "int64\n"
          ]
        }
      ]
    },
    {
      "cell_type": "markdown",
      "source": [
        "Array Shape"
      ],
      "metadata": {
        "id": "L9G7tVDwmgug"
      }
    },
    {
      "cell_type": "code",
      "source": [
        "print(array4.shape)"
      ],
      "metadata": {
        "colab": {
          "base_uri": "https://localhost:8080/"
        },
        "id": "P3nEzwI1mi3U",
        "outputId": "e547c58b-db80-4277-853b-2250f734b3c5"
      },
      "execution_count": 31,
      "outputs": [
        {
          "output_type": "stream",
          "name": "stdout",
          "text": [
            "(2, 3)\n"
          ]
        }
      ]
    },
    {
      "cell_type": "code",
      "source": [
        "print(array5.shape)"
      ],
      "metadata": {
        "colab": {
          "base_uri": "https://localhost:8080/"
        },
        "id": "W8lXa__umwsv",
        "outputId": "35e1cdf2-1ea7-4b12-caee-e1d94310cb07"
      },
      "execution_count": 33,
      "outputs": [
        {
          "output_type": "stream",
          "name": "stdout",
          "text": [
            "(2, 2, 3)\n"
          ]
        }
      ]
    },
    {
      "cell_type": "markdown",
      "source": [
        "Reshape "
      ],
      "metadata": {
        "id": "AEM_OVFcnBK6"
      }
    },
    {
      "cell_type": "code",
      "source": [
        "array6=np.array([1,2,3,4,5,6,7,8,9,10,11,12])\n",
        "new_arr=array6.reshape(4,3)\n",
        "print(array6)\n",
        "print(new_arr)"
      ],
      "metadata": {
        "colab": {
          "base_uri": "https://localhost:8080/"
        },
        "id": "OFELj_C1nGuA",
        "outputId": "29b2fc5a-987a-4471-b36e-c5dcad87b46e"
      },
      "execution_count": 36,
      "outputs": [
        {
          "output_type": "stream",
          "name": "stdout",
          "text": [
            "[ 1  2  3  4  5  6  7  8  9 10 11 12]\n",
            "[[ 1  2  3]\n",
            " [ 4  5  6]\n",
            " [ 7  8  9]\n",
            " [10 11 12]]\n"
          ]
        }
      ]
    },
    {
      "cell_type": "code",
      "source": [
        "array6=np.array([1,2,3,4,5,6,7,8,9,10,11,12])\n",
        "print(array6)\n",
        "new_2=array6.reshape(2,3,2)\n",
        "print(new_2)"
      ],
      "metadata": {
        "colab": {
          "base_uri": "https://localhost:8080/"
        },
        "id": "aZyYbEDGnslZ",
        "outputId": "78f275a6-d75b-4a6a-cfbb-21f32be0e31a"
      },
      "execution_count": 39,
      "outputs": [
        {
          "output_type": "stream",
          "name": "stdout",
          "text": [
            "[ 1  2  3  4  5  6  7  8  9 10 11 12]\n",
            "[[[ 1  2]\n",
            "  [ 3  4]\n",
            "  [ 5  6]]\n",
            "\n",
            " [[ 7  8]\n",
            "  [ 9 10]\n",
            "  [11 12]]]\n"
          ]
        }
      ]
    },
    {
      "cell_type": "code",
      "source": [
        "array6=np.array([1,2,3,4,5,6,7,8,9,10,11,12])\n",
        "print(array6)\n",
        "new_2=array6.reshape(2,3,1)\n",
        "print(new_2)"
      ],
      "metadata": {
        "colab": {
          "base_uri": "https://localhost:8080/",
          "height": 235
        },
        "id": "cdvh62dvoM3-",
        "outputId": "37b326fb-537c-4852-d807-57fc0c708f8d"
      },
      "execution_count": 41,
      "outputs": [
        {
          "output_type": "stream",
          "name": "stdout",
          "text": [
            "[ 1  2  3  4  5  6  7  8  9 10 11 12]\n"
          ]
        },
        {
          "output_type": "error",
          "ename": "ValueError",
          "evalue": "ignored",
          "traceback": [
            "\u001b[0;31m---------------------------------------------------------------------------\u001b[0m",
            "\u001b[0;31mValueError\u001b[0m                                Traceback (most recent call last)",
            "\u001b[0;32m<ipython-input-41-54adb6906aaa>\u001b[0m in \u001b[0;36m<module>\u001b[0;34m\u001b[0m\n\u001b[1;32m      1\u001b[0m \u001b[0marray6\u001b[0m\u001b[0;34m=\u001b[0m\u001b[0mnp\u001b[0m\u001b[0;34m.\u001b[0m\u001b[0marray\u001b[0m\u001b[0;34m(\u001b[0m\u001b[0;34m[\u001b[0m\u001b[0;36m1\u001b[0m\u001b[0;34m,\u001b[0m\u001b[0;36m2\u001b[0m\u001b[0;34m,\u001b[0m\u001b[0;36m3\u001b[0m\u001b[0;34m,\u001b[0m\u001b[0;36m4\u001b[0m\u001b[0;34m,\u001b[0m\u001b[0;36m5\u001b[0m\u001b[0;34m,\u001b[0m\u001b[0;36m6\u001b[0m\u001b[0;34m,\u001b[0m\u001b[0;36m7\u001b[0m\u001b[0;34m,\u001b[0m\u001b[0;36m8\u001b[0m\u001b[0;34m,\u001b[0m\u001b[0;36m9\u001b[0m\u001b[0;34m,\u001b[0m\u001b[0;36m10\u001b[0m\u001b[0;34m,\u001b[0m\u001b[0;36m11\u001b[0m\u001b[0;34m,\u001b[0m\u001b[0;36m12\u001b[0m\u001b[0;34m]\u001b[0m\u001b[0;34m)\u001b[0m\u001b[0;34m\u001b[0m\u001b[0;34m\u001b[0m\u001b[0m\n\u001b[1;32m      2\u001b[0m \u001b[0mprint\u001b[0m\u001b[0;34m(\u001b[0m\u001b[0marray6\u001b[0m\u001b[0;34m)\u001b[0m\u001b[0;34m\u001b[0m\u001b[0;34m\u001b[0m\u001b[0m\n\u001b[0;32m----> 3\u001b[0;31m \u001b[0mnew_2\u001b[0m\u001b[0;34m=\u001b[0m\u001b[0marray6\u001b[0m\u001b[0;34m.\u001b[0m\u001b[0mreshape\u001b[0m\u001b[0;34m(\u001b[0m\u001b[0;36m2\u001b[0m\u001b[0;34m,\u001b[0m\u001b[0;36m3\u001b[0m\u001b[0;34m,\u001b[0m\u001b[0;36m1\u001b[0m\u001b[0;34m)\u001b[0m\u001b[0;34m\u001b[0m\u001b[0;34m\u001b[0m\u001b[0m\n\u001b[0m\u001b[1;32m      4\u001b[0m \u001b[0mprint\u001b[0m\u001b[0;34m(\u001b[0m\u001b[0mnew_2\u001b[0m\u001b[0;34m)\u001b[0m\u001b[0;34m\u001b[0m\u001b[0;34m\u001b[0m\u001b[0m\n",
            "\u001b[0;31mValueError\u001b[0m: cannot reshape array of size 12 into shape (2,3,1)"
          ]
        }
      ]
    },
    {
      "cell_type": "markdown",
      "source": [
        "Flattening the arrays"
      ],
      "metadata": {
        "id": "frENhAesoufz"
      }
    },
    {
      "cell_type": "code",
      "source": [
        "array4= np.array([[1,2,3],[4,5,6]])\n",
        "print(array4)\n",
        "new_3=array4.reshape(-1)\n",
        "print(new_3)"
      ],
      "metadata": {
        "colab": {
          "base_uri": "https://localhost:8080/"
        },
        "id": "6L_QECv5oxLa",
        "outputId": "73a61b80-82a1-4b25-e333-45f859d7c94e"
      },
      "execution_count": 42,
      "outputs": [
        {
          "output_type": "stream",
          "name": "stdout",
          "text": [
            "[[1 2 3]\n",
            " [4 5 6]]\n",
            "[1 2 3 4 5 6]\n"
          ]
        }
      ]
    },
    {
      "cell_type": "markdown",
      "source": [
        "Iterating the arrays"
      ],
      "metadata": {
        "id": "tG41GFhkpOXt"
      }
    },
    {
      "cell_type": "code",
      "source": [
        "array4= np.array([[1,2,3],[4,5,6]])\n",
        "for element in array4:\n",
        "  for ele in element:\n",
        "    print(ele)\n",
        "\n"
      ],
      "metadata": {
        "colab": {
          "base_uri": "https://localhost:8080/"
        },
        "id": "lWY8kuNbpRKI",
        "outputId": "0a45bc95-31d2-4a75-e334-c781cdba1a5c"
      },
      "execution_count": 46,
      "outputs": [
        {
          "output_type": "stream",
          "name": "stdout",
          "text": [
            "1\n",
            "2\n",
            "3\n",
            "4\n",
            "5\n",
            "6\n"
          ]
        }
      ]
    },
    {
      "cell_type": "code",
      "source": [
        "array6=np.array([1,2,3,4,5,6,7,8,9,10,11,12])\n",
        "for x in array6:\n",
        "  print(x)"
      ],
      "metadata": {
        "colab": {
          "base_uri": "https://localhost:8080/"
        },
        "id": "cl0O3Fj8pflg",
        "outputId": "be08494e-2b48-419f-adf8-82c9c6eb7cb0"
      },
      "execution_count": 45,
      "outputs": [
        {
          "output_type": "stream",
          "name": "stdout",
          "text": [
            "1\n",
            "2\n",
            "3\n",
            "4\n",
            "5\n",
            "6\n",
            "7\n",
            "8\n",
            "9\n",
            "10\n",
            "11\n",
            "12\n"
          ]
        }
      ]
    },
    {
      "cell_type": "markdown",
      "source": [
        "Join"
      ],
      "metadata": {
        "id": "iMlLqbdjqLBp"
      }
    },
    {
      "cell_type": "code",
      "source": [
        "array6=np.array([1,2,3,4,5,6,7,8,9,10,11,12])\n",
        "array7=np.array([2,3,4,5])\n",
        "array = np.concatenate((array6,array7))\n",
        "print(array)"
      ],
      "metadata": {
        "colab": {
          "base_uri": "https://localhost:8080/"
        },
        "id": "rNpg8nrEqTII",
        "outputId": "3edf71e2-9668-45eb-87e0-8654f1a052e1"
      },
      "execution_count": 47,
      "outputs": [
        {
          "output_type": "stream",
          "name": "stdout",
          "text": [
            "[ 1  2  3  4  5  6  7  8  9 10 11 12  2  3  4  5]\n"
          ]
        }
      ]
    },
    {
      "cell_type": "markdown",
      "source": [
        "Array split"
      ],
      "metadata": {
        "id": "PQsLTZ_6qwiK"
      }
    },
    {
      "cell_type": "code",
      "source": [
        "array6=np.array([1,2,3,4,5,6,7,8,9,10,11,12])\n",
        "new_arr= np.array_split(array6,3)\n",
        "print(new_arr)"
      ],
      "metadata": {
        "colab": {
          "base_uri": "https://localhost:8080/"
        },
        "id": "kYC0hruDqoVc",
        "outputId": "97a516c8-d550-4ff6-f430-d7612a247e8c"
      },
      "execution_count": 49,
      "outputs": [
        {
          "output_type": "stream",
          "name": "stdout",
          "text": [
            "[array([1, 2, 3, 4]), array([5, 6, 7, 8]), array([ 9, 10, 11, 12])]\n"
          ]
        }
      ]
    },
    {
      "cell_type": "code",
      "source": [
        "array4= np.array([[1,2,3],[4,5,6]])\n",
        "print(array4)\n",
        "new_array= np.array_split(array4,3)\n",
        "print(new_array)"
      ],
      "metadata": {
        "colab": {
          "base_uri": "https://localhost:8080/"
        },
        "id": "iWn2vM9crRk3",
        "outputId": "3d4d23b5-ffa4-49be-bd63-1c856b431fcb"
      },
      "execution_count": 51,
      "outputs": [
        {
          "output_type": "stream",
          "name": "stdout",
          "text": [
            "[[1 2 3]\n",
            " [4 5 6]]\n",
            "[array([[1, 2, 3]]), array([[4, 5, 6]]), array([], shape=(0, 3), dtype=int64)]\n"
          ]
        }
      ]
    },
    {
      "cell_type": "markdown",
      "source": [
        "Array sorting"
      ],
      "metadata": {
        "id": "LjP7kXL7rqju"
      }
    },
    {
      "cell_type": "code",
      "source": [
        "random_array=np.array([101,98,834,-987,89])\n",
        "print(np.sort(random_array))"
      ],
      "metadata": {
        "colab": {
          "base_uri": "https://localhost:8080/"
        },
        "id": "jN3fejtZrsTe",
        "outputId": "71336c74-d81a-412c-a1d0-7e1a229856f5"
      },
      "execution_count": 53,
      "outputs": [
        {
          "output_type": "stream",
          "name": "stdout",
          "text": [
            "[-987   89   98  101  834]\n"
          ]
        }
      ]
    },
    {
      "cell_type": "code",
      "source": [
        "random_str=np.array([\"e\",\"b\",\"u\",\"f\",\"z\"])\n",
        "print(np.sort(random_str))"
      ],
      "metadata": {
        "colab": {
          "base_uri": "https://localhost:8080/"
        },
        "id": "ok8JZ_tIsJri",
        "outputId": "fc070808-1497-4ca7-b1d0-3007d1bc828c"
      },
      "execution_count": 55,
      "outputs": [
        {
          "output_type": "stream",
          "name": "stdout",
          "text": [
            "['b' 'e' 'f' 'u' 'z']\n"
          ]
        }
      ]
    },
    {
      "cell_type": "code",
      "source": [
        "random_bool=np.array([False, True, False,True])\n",
        "print(np.sort(random_bool))"
      ],
      "metadata": {
        "colab": {
          "base_uri": "https://localhost:8080/"
        },
        "id": "9jUrGbvCsd5J",
        "outputId": "5cfb9de5-9e9e-4ed1-d767-cfcfb1c85cb6"
      },
      "execution_count": 56,
      "outputs": [
        {
          "output_type": "stream",
          "name": "stdout",
          "text": [
            "[False False  True  True]\n"
          ]
        }
      ]
    },
    {
      "cell_type": "markdown",
      "source": [
        "Filtering arrays"
      ],
      "metadata": {
        "id": "bIAAJNLJsahJ"
      }
    },
    {
      "cell_type": "code",
      "source": [
        "array6=np.array([1,2,3,4,5,6,7,8,9,10,11,12])\n",
        "filter_array=[]\n",
        "#array consit of ele div by new_2\n",
        "for ele in array:\n",
        "  if ele%2 == 0:\n",
        "    filter_array.append(True)\n",
        "  else:\n",
        "    filter_array.append(False)\n",
        "\n",
        "\n",
        "print(filter_array)\n"
      ],
      "metadata": {
        "colab": {
          "base_uri": "https://localhost:8080/"
        },
        "id": "3bWvkVyCs7AL",
        "outputId": "ace47866-e73f-44e6-fa72-cf0b6f947367"
      },
      "execution_count": 58,
      "outputs": [
        {
          "output_type": "stream",
          "name": "stdout",
          "text": [
            "[False, True, False, True, False, True, False, True, False, True, False, True, True, False, True, False]\n"
          ]
        }
      ]
    },
    {
      "cell_type": "markdown",
      "source": [
        "**PANDAS**"
      ],
      "metadata": {
        "id": "uTUGfC5ut5pS"
      }
    },
    {
      "cell_type": "code",
      "source": [
        "import pandas as pd\n",
        "arr=[1,6,5,7]\n",
        "my_series=pd.Series(arr)\n",
        "print(my_series)"
      ],
      "metadata": {
        "colab": {
          "base_uri": "https://localhost:8080/"
        },
        "id": "a0mvKjpEt886",
        "outputId": "1bbbc5c2-de74-4e67-a3d9-c567bb2f932e"
      },
      "execution_count": 60,
      "outputs": [
        {
          "output_type": "stream",
          "name": "stdout",
          "text": [
            "0    1\n",
            "1    6\n",
            "2    5\n",
            "3    7\n",
            "dtype: int64\n"
          ]
        }
      ]
    },
    {
      "cell_type": "code",
      "source": [
        "import pandas as pd\n",
        "arr=[1,6,5,7]\n",
        "my_series=pd.Series(arr, index=['x','y','z','a'])\n",
        "print(my_series)"
      ],
      "metadata": {
        "colab": {
          "base_uri": "https://localhost:8080/"
        },
        "id": "zlESLV4ru2ML",
        "outputId": "b1fdae27-4f07-444a-c2fb-b5f236aaf511"
      },
      "execution_count": 62,
      "outputs": [
        {
          "output_type": "stream",
          "name": "stdout",
          "text": [
            "x    1\n",
            "y    6\n",
            "z    5\n",
            "a    7\n",
            "dtype: int64\n"
          ]
        }
      ]
    },
    {
      "cell_type": "code",
      "source": [
        "calories={\n",
        "    \"day1\":456,\n",
        "    \"day2\":980,\n",
        "    \"day3\":1023\n",
        "}\n",
        "my_series=pd.Series(calories)\n",
        "print(my_series)"
      ],
      "metadata": {
        "colab": {
          "base_uri": "https://localhost:8080/"
        },
        "id": "kGJYhQAavShL",
        "outputId": "38409b5b-a2d8-4534-fc53-8dbe9de758ff"
      },
      "execution_count": 63,
      "outputs": [
        {
          "output_type": "stream",
          "name": "stdout",
          "text": [
            "day1     456\n",
            "day2     980\n",
            "day3    1023\n",
            "dtype: int64\n"
          ]
        }
      ]
    },
    {
      "cell_type": "code",
      "source": [
        "calories={\n",
        "    \"day1\":456,\n",
        "    \"day2\":980,\n",
        "    \"day3\":1023\n",
        "}\n",
        "my_series=pd.Series(calories, index=[\"day1\",\"day3\"])\n",
        "print(my_series)"
      ],
      "metadata": {
        "colab": {
          "base_uri": "https://localhost:8080/"
        },
        "id": "TlfxZrisvlcB",
        "outputId": "34fd67ab-033b-40f5-81c5-2a8c1f965753"
      },
      "execution_count": 64,
      "outputs": [
        {
          "output_type": "stream",
          "name": "stdout",
          "text": [
            "day1     456\n",
            "day3    1023\n",
            "dtype: int64\n"
          ]
        }
      ]
    },
    {
      "cell_type": "code",
      "source": [
        "calories={\n",
        "    \"day1\":[456,569,652,789],\n",
        "    \"day2\":[1456,5220,6524,789],\n",
        "    \"day3\":[4256,5692,652,7892]\n",
        "}\n",
        "# my_series=pd.Series(calories)\n",
        "# print(my_series)\n",
        "df=pd.DataFrame(calories)\n",
        "print(df)"
      ],
      "metadata": {
        "colab": {
          "base_uri": "https://localhost:8080/"
        },
        "id": "sGeIrGM8vye0",
        "outputId": "a9cc3ebc-aff5-44ad-9dcd-885865d68a30"
      },
      "execution_count": 66,
      "outputs": [
        {
          "output_type": "stream",
          "name": "stdout",
          "text": [
            "   day1  day2  day3\n",
            "0   456  1456  4256\n",
            "1   569  5220  5692\n",
            "2   652  6524   652\n",
            "3   789   789  7892\n"
          ]
        }
      ]
    },
    {
      "cell_type": "markdown",
      "source": [
        "Querying a series"
      ],
      "metadata": {
        "id": "sagAN-SSxFI6"
      }
    },
    {
      "cell_type": "code",
      "source": [
        "student_classes={\n",
        "    'Alice':'Physics',\n",
        "    'Jack':'Math',\n",
        "    'Molly':'Chem',\n",
        "    'Sam':'History'\n",
        "    \n",
        "}\n",
        "s =pd.Series(student_classes)\n",
        "s\n"
      ],
      "metadata": {
        "colab": {
          "base_uri": "https://localhost:8080/"
        },
        "id": "iAzNQkqIxDZz",
        "outputId": "2e730b03-732d-4665-94ee-6877aa2fbda4"
      },
      "execution_count": 67,
      "outputs": [
        {
          "output_type": "execute_result",
          "data": {
            "text/plain": [
              "Alice    Physics\n",
              "Jack        Math\n",
              "Molly       Chem\n",
              "Sam      History\n",
              "dtype: object"
            ]
          },
          "metadata": {},
          "execution_count": 67
        }
      ]
    },
    {
      "cell_type": "code",
      "source": [
        "s.iloc[3]"
      ],
      "metadata": {
        "colab": {
          "base_uri": "https://localhost:8080/",
          "height": 35
        },
        "id": "PEHoJEC6xl0R",
        "outputId": "4edbc58e-ec3d-412a-9f4a-fbebf0e5ab41"
      },
      "execution_count": 68,
      "outputs": [
        {
          "output_type": "execute_result",
          "data": {
            "text/plain": [
              "'History'"
            ],
            "application/vnd.google.colaboratory.intrinsic+json": {
              "type": "string"
            }
          },
          "metadata": {},
          "execution_count": 68
        }
      ]
    },
    {
      "cell_type": "code",
      "source": [
        "s.loc['Alice']"
      ],
      "metadata": {
        "colab": {
          "base_uri": "https://localhost:8080/",
          "height": 35
        },
        "id": "q5X7HNOrx3f0",
        "outputId": "11206386-315c-4e1f-a852-5e77e92c5776"
      },
      "execution_count": 69,
      "outputs": [
        {
          "output_type": "execute_result",
          "data": {
            "text/plain": [
              "'Physics'"
            ],
            "application/vnd.google.colaboratory.intrinsic+json": {
              "type": "string"
            }
          },
          "metadata": {},
          "execution_count": 69
        }
      ]
    },
    {
      "cell_type": "code",
      "source": [
        "s.iloc[0]"
      ],
      "metadata": {
        "colab": {
          "base_uri": "https://localhost:8080/",
          "height": 35
        },
        "id": "M5eG2TWDyC85",
        "outputId": "50506d3d-cec6-4847-e3a1-aab4db0a120a"
      },
      "execution_count": 70,
      "outputs": [
        {
          "output_type": "execute_result",
          "data": {
            "text/plain": [
              "'Physics'"
            ],
            "application/vnd.google.colaboratory.intrinsic+json": {
              "type": "string"
            }
          },
          "metadata": {},
          "execution_count": 70
        }
      ]
    },
    {
      "cell_type": "code",
      "source": [
        "s[0]"
      ],
      "metadata": {
        "colab": {
          "base_uri": "https://localhost:8080/",
          "height": 35
        },
        "id": "qlzvg5ZPyJQB",
        "outputId": "a83289bc-a008-4131-b734-bf901fbe795f"
      },
      "execution_count": 71,
      "outputs": [
        {
          "output_type": "execute_result",
          "data": {
            "text/plain": [
              "'Physics'"
            ],
            "application/vnd.google.colaboratory.intrinsic+json": {
              "type": "string"
            }
          },
          "metadata": {},
          "execution_count": 71
        }
      ]
    },
    {
      "cell_type": "markdown",
      "source": [
        "Reading data from csv\n"
      ],
      "metadata": {
        "id": "DCLO2kU_wm1q"
      }
    },
    {
      "cell_type": "code",
      "source": [
        "df= pd.read_csv('/content/Myntra Fasion Clothing.csv')\n",
        "df"
      ],
      "metadata": {
        "colab": {
          "base_uri": "https://localhost:8080/",
          "height": 1000
        },
        "id": "2C_V6z6WygeY",
        "outputId": "023d4e4f-c40b-4eb8-e499-7f6df2edae43"
      },
      "execution_count": 73,
      "outputs": [
        {
          "output_type": "execute_result",
          "data": {
            "text/plain": [
              "                                                     URL  Product_id  \\\n",
              "0      https://www.myntra.com/jeans/roadster/roadster...     2296012   \n",
              "1      https://www.myntra.com/track-pants/locomotive/...    13780156   \n",
              "2      https://www.myntra.com/shirts/roadster/roadste...    11895958   \n",
              "3      https://www.myntra.com/shapewear/zivame/zivame...     4335679   \n",
              "4      https://www.myntra.com/tshirts/roadster/roadst...    11690882   \n",
              "...                                                  ...         ...   \n",
              "32299  https://www.myntra.com/trunk/jockey/jockey-int...    11036168   \n",
              "32300  https://www.myntra.com/briefs/xyxx/xyxx-men-gr...    13889998   \n",
              "32301  https://www.myntra.com/briefs/damensch/damensc...    12158054   \n",
              "32302  https://www.myntra.com/lounge-shorts/damensch/...    15764990   \n",
              "32303  https://www.myntra.com/tshirts/sztori/sztori-m...    14545566   \n",
              "\n",
              "        BrandName                  Category Individual_category  \\\n",
              "0        Roadster               Bottom Wear               jeans   \n",
              "1      LOCOMOTIVE               Bottom Wear         track-pants   \n",
              "2        Roadster                   Topwear              shirts   \n",
              "3          Zivame     Lingerie & Sleep Wear           shapewear   \n",
              "4        Roadster                   Western             tshirts   \n",
              "...           ...                       ...                 ...   \n",
              "32299      Jockey  Inner Wear &  Sleep Wear               trunk   \n",
              "32300        XYXX  Inner Wear &  Sleep Wear              briefs   \n",
              "32301    DAMENSCH  Inner Wear &  Sleep Wear              briefs   \n",
              "32302    DAMENSCH  Inner Wear &  Sleep Wear       lounge-shorts   \n",
              "32303      Sztori                 Plus Size             tshirts   \n",
              "\n",
              "      category_by_Gender                                        Description  \\\n",
              "0                    Men  roadster men navy blue slim fit mid rise clean...   \n",
              "1                    Men  locomotive men black  white solid slim fit tra...   \n",
              "2                    Men  roadster men navy white  black geometric print...   \n",
              "3                  Women  zivame women black saree shapewear zi3023core0...   \n",
              "4                  Women  roadster women white solid v neck pure cotton ...   \n",
              "...                  ...                                                ...   \n",
              "32299                Men  jockey international collection men black soli...   \n",
              "32300                Men  xyxx men grey solid ultra soft antimicrobial b...   \n",
              "32301                Men  damensch men deo soft deodorizing micro modal ...   \n",
              "32302                Men               damensch men navy blue lounge shorts   \n",
              "32303                Men  sztori men plus size olive green solid band co...   \n",
              "\n",
              "       DiscountPrice (in Rs)  OriginalPrice (in Rs) DiscountOffer  \\\n",
              "0                      824.0                   1499       45% OFF   \n",
              "1                      517.0                   1149       55% OFF   \n",
              "2                      629.0                   1399       55% OFF   \n",
              "3                      893.0                   1295       31% OFF   \n",
              "4                        NaN                    599       35% OFF   \n",
              "...                      ...                    ...           ...   \n",
              "32299                    NaN                    439           NaN   \n",
              "32300                    NaN                    249           NaN   \n",
              "32301                    NaN                    540           NaN   \n",
              "32302                    NaN                    799           NaN   \n",
              "32303                  719.0                   1599             5   \n",
              "\n",
              "                   SizeOption  Ratings  Reviews  \n",
              "0          28, 30, 32, 34, 36      3.9    999.0  \n",
              "1                 S, M, L, XL      4.0    999.0  \n",
              "2      38, 40, 42, 44, 46, 48      4.3    999.0  \n",
              "3            S, M, L, XL, XXL      4.2    999.0  \n",
              "4             XS, S, M, L, XL      4.2    999.0  \n",
              "...                       ...      ...      ...  \n",
              "32299                      XL      4.3     82.0  \n",
              "32300        S, M, L, XL, XXL      3.9     82.0  \n",
              "32301        S, M, L, XL, XXL      4.2     82.0  \n",
              "32302        S, M, L, XL, XXL      4.6     82.0  \n",
              "32303                     NaN      NaN      NaN  \n",
              "\n",
              "[32304 rows x 13 columns]"
            ],
            "text/html": [
              "\n",
              "  <div id=\"df-24aab5bd-b35a-4900-b71f-23949043e2d6\">\n",
              "    <div class=\"colab-df-container\">\n",
              "      <div>\n",
              "<style scoped>\n",
              "    .dataframe tbody tr th:only-of-type {\n",
              "        vertical-align: middle;\n",
              "    }\n",
              "\n",
              "    .dataframe tbody tr th {\n",
              "        vertical-align: top;\n",
              "    }\n",
              "\n",
              "    .dataframe thead th {\n",
              "        text-align: right;\n",
              "    }\n",
              "</style>\n",
              "<table border=\"1\" class=\"dataframe\">\n",
              "  <thead>\n",
              "    <tr style=\"text-align: right;\">\n",
              "      <th></th>\n",
              "      <th>URL</th>\n",
              "      <th>Product_id</th>\n",
              "      <th>BrandName</th>\n",
              "      <th>Category</th>\n",
              "      <th>Individual_category</th>\n",
              "      <th>category_by_Gender</th>\n",
              "      <th>Description</th>\n",
              "      <th>DiscountPrice (in Rs)</th>\n",
              "      <th>OriginalPrice (in Rs)</th>\n",
              "      <th>DiscountOffer</th>\n",
              "      <th>SizeOption</th>\n",
              "      <th>Ratings</th>\n",
              "      <th>Reviews</th>\n",
              "    </tr>\n",
              "  </thead>\n",
              "  <tbody>\n",
              "    <tr>\n",
              "      <th>0</th>\n",
              "      <td>https://www.myntra.com/jeans/roadster/roadster...</td>\n",
              "      <td>2296012</td>\n",
              "      <td>Roadster</td>\n",
              "      <td>Bottom Wear</td>\n",
              "      <td>jeans</td>\n",
              "      <td>Men</td>\n",
              "      <td>roadster men navy blue slim fit mid rise clean...</td>\n",
              "      <td>824.0</td>\n",
              "      <td>1499</td>\n",
              "      <td>45% OFF</td>\n",
              "      <td>28, 30, 32, 34, 36</td>\n",
              "      <td>3.9</td>\n",
              "      <td>999.0</td>\n",
              "    </tr>\n",
              "    <tr>\n",
              "      <th>1</th>\n",
              "      <td>https://www.myntra.com/track-pants/locomotive/...</td>\n",
              "      <td>13780156</td>\n",
              "      <td>LOCOMOTIVE</td>\n",
              "      <td>Bottom Wear</td>\n",
              "      <td>track-pants</td>\n",
              "      <td>Men</td>\n",
              "      <td>locomotive men black  white solid slim fit tra...</td>\n",
              "      <td>517.0</td>\n",
              "      <td>1149</td>\n",
              "      <td>55% OFF</td>\n",
              "      <td>S, M, L, XL</td>\n",
              "      <td>4.0</td>\n",
              "      <td>999.0</td>\n",
              "    </tr>\n",
              "    <tr>\n",
              "      <th>2</th>\n",
              "      <td>https://www.myntra.com/shirts/roadster/roadste...</td>\n",
              "      <td>11895958</td>\n",
              "      <td>Roadster</td>\n",
              "      <td>Topwear</td>\n",
              "      <td>shirts</td>\n",
              "      <td>Men</td>\n",
              "      <td>roadster men navy white  black geometric print...</td>\n",
              "      <td>629.0</td>\n",
              "      <td>1399</td>\n",
              "      <td>55% OFF</td>\n",
              "      <td>38, 40, 42, 44, 46, 48</td>\n",
              "      <td>4.3</td>\n",
              "      <td>999.0</td>\n",
              "    </tr>\n",
              "    <tr>\n",
              "      <th>3</th>\n",
              "      <td>https://www.myntra.com/shapewear/zivame/zivame...</td>\n",
              "      <td>4335679</td>\n",
              "      <td>Zivame</td>\n",
              "      <td>Lingerie &amp; Sleep Wear</td>\n",
              "      <td>shapewear</td>\n",
              "      <td>Women</td>\n",
              "      <td>zivame women black saree shapewear zi3023core0...</td>\n",
              "      <td>893.0</td>\n",
              "      <td>1295</td>\n",
              "      <td>31% OFF</td>\n",
              "      <td>S, M, L, XL, XXL</td>\n",
              "      <td>4.2</td>\n",
              "      <td>999.0</td>\n",
              "    </tr>\n",
              "    <tr>\n",
              "      <th>4</th>\n",
              "      <td>https://www.myntra.com/tshirts/roadster/roadst...</td>\n",
              "      <td>11690882</td>\n",
              "      <td>Roadster</td>\n",
              "      <td>Western</td>\n",
              "      <td>tshirts</td>\n",
              "      <td>Women</td>\n",
              "      <td>roadster women white solid v neck pure cotton ...</td>\n",
              "      <td>NaN</td>\n",
              "      <td>599</td>\n",
              "      <td>35% OFF</td>\n",
              "      <td>XS, S, M, L, XL</td>\n",
              "      <td>4.2</td>\n",
              "      <td>999.0</td>\n",
              "    </tr>\n",
              "    <tr>\n",
              "      <th>...</th>\n",
              "      <td>...</td>\n",
              "      <td>...</td>\n",
              "      <td>...</td>\n",
              "      <td>...</td>\n",
              "      <td>...</td>\n",
              "      <td>...</td>\n",
              "      <td>...</td>\n",
              "      <td>...</td>\n",
              "      <td>...</td>\n",
              "      <td>...</td>\n",
              "      <td>...</td>\n",
              "      <td>...</td>\n",
              "      <td>...</td>\n",
              "    </tr>\n",
              "    <tr>\n",
              "      <th>32299</th>\n",
              "      <td>https://www.myntra.com/trunk/jockey/jockey-int...</td>\n",
              "      <td>11036168</td>\n",
              "      <td>Jockey</td>\n",
              "      <td>Inner Wear &amp;  Sleep Wear</td>\n",
              "      <td>trunk</td>\n",
              "      <td>Men</td>\n",
              "      <td>jockey international collection men black soli...</td>\n",
              "      <td>NaN</td>\n",
              "      <td>439</td>\n",
              "      <td>NaN</td>\n",
              "      <td>XL</td>\n",
              "      <td>4.3</td>\n",
              "      <td>82.0</td>\n",
              "    </tr>\n",
              "    <tr>\n",
              "      <th>32300</th>\n",
              "      <td>https://www.myntra.com/briefs/xyxx/xyxx-men-gr...</td>\n",
              "      <td>13889998</td>\n",
              "      <td>XYXX</td>\n",
              "      <td>Inner Wear &amp;  Sleep Wear</td>\n",
              "      <td>briefs</td>\n",
              "      <td>Men</td>\n",
              "      <td>xyxx men grey solid ultra soft antimicrobial b...</td>\n",
              "      <td>NaN</td>\n",
              "      <td>249</td>\n",
              "      <td>NaN</td>\n",
              "      <td>S, M, L, XL, XXL</td>\n",
              "      <td>3.9</td>\n",
              "      <td>82.0</td>\n",
              "    </tr>\n",
              "    <tr>\n",
              "      <th>32301</th>\n",
              "      <td>https://www.myntra.com/briefs/damensch/damensc...</td>\n",
              "      <td>12158054</td>\n",
              "      <td>DAMENSCH</td>\n",
              "      <td>Inner Wear &amp;  Sleep Wear</td>\n",
              "      <td>briefs</td>\n",
              "      <td>Men</td>\n",
              "      <td>damensch men deo soft deodorizing micro modal ...</td>\n",
              "      <td>NaN</td>\n",
              "      <td>540</td>\n",
              "      <td>NaN</td>\n",
              "      <td>S, M, L, XL, XXL</td>\n",
              "      <td>4.2</td>\n",
              "      <td>82.0</td>\n",
              "    </tr>\n",
              "    <tr>\n",
              "      <th>32302</th>\n",
              "      <td>https://www.myntra.com/lounge-shorts/damensch/...</td>\n",
              "      <td>15764990</td>\n",
              "      <td>DAMENSCH</td>\n",
              "      <td>Inner Wear &amp;  Sleep Wear</td>\n",
              "      <td>lounge-shorts</td>\n",
              "      <td>Men</td>\n",
              "      <td>damensch men navy blue lounge shorts</td>\n",
              "      <td>NaN</td>\n",
              "      <td>799</td>\n",
              "      <td>NaN</td>\n",
              "      <td>S, M, L, XL, XXL</td>\n",
              "      <td>4.6</td>\n",
              "      <td>82.0</td>\n",
              "    </tr>\n",
              "    <tr>\n",
              "      <th>32303</th>\n",
              "      <td>https://www.myntra.com/tshirts/sztori/sztori-m...</td>\n",
              "      <td>14545566</td>\n",
              "      <td>Sztori</td>\n",
              "      <td>Plus Size</td>\n",
              "      <td>tshirts</td>\n",
              "      <td>Men</td>\n",
              "      <td>sztori men plus size olive green solid band co...</td>\n",
              "      <td>719.0</td>\n",
              "      <td>1599</td>\n",
              "      <td>5</td>\n",
              "      <td>NaN</td>\n",
              "      <td>NaN</td>\n",
              "      <td>NaN</td>\n",
              "    </tr>\n",
              "  </tbody>\n",
              "</table>\n",
              "<p>32304 rows × 13 columns</p>\n",
              "</div>\n",
              "      <button class=\"colab-df-convert\" onclick=\"convertToInteractive('df-24aab5bd-b35a-4900-b71f-23949043e2d6')\"\n",
              "              title=\"Convert this dataframe to an interactive table.\"\n",
              "              style=\"display:none;\">\n",
              "        \n",
              "  <svg xmlns=\"http://www.w3.org/2000/svg\" height=\"24px\"viewBox=\"0 0 24 24\"\n",
              "       width=\"24px\">\n",
              "    <path d=\"M0 0h24v24H0V0z\" fill=\"none\"/>\n",
              "    <path d=\"M18.56 5.44l.94 2.06.94-2.06 2.06-.94-2.06-.94-.94-2.06-.94 2.06-2.06.94zm-11 1L8.5 8.5l.94-2.06 2.06-.94-2.06-.94L8.5 2.5l-.94 2.06-2.06.94zm10 10l.94 2.06.94-2.06 2.06-.94-2.06-.94-.94-2.06-.94 2.06-2.06.94z\"/><path d=\"M17.41 7.96l-1.37-1.37c-.4-.4-.92-.59-1.43-.59-.52 0-1.04.2-1.43.59L10.3 9.45l-7.72 7.72c-.78.78-.78 2.05 0 2.83L4 21.41c.39.39.9.59 1.41.59.51 0 1.02-.2 1.41-.59l7.78-7.78 2.81-2.81c.8-.78.8-2.07 0-2.86zM5.41 20L4 18.59l7.72-7.72 1.47 1.35L5.41 20z\"/>\n",
              "  </svg>\n",
              "      </button>\n",
              "      \n",
              "  <style>\n",
              "    .colab-df-container {\n",
              "      display:flex;\n",
              "      flex-wrap:wrap;\n",
              "      gap: 12px;\n",
              "    }\n",
              "\n",
              "    .colab-df-convert {\n",
              "      background-color: #E8F0FE;\n",
              "      border: none;\n",
              "      border-radius: 50%;\n",
              "      cursor: pointer;\n",
              "      display: none;\n",
              "      fill: #1967D2;\n",
              "      height: 32px;\n",
              "      padding: 0 0 0 0;\n",
              "      width: 32px;\n",
              "    }\n",
              "\n",
              "    .colab-df-convert:hover {\n",
              "      background-color: #E2EBFA;\n",
              "      box-shadow: 0px 1px 2px rgba(60, 64, 67, 0.3), 0px 1px 3px 1px rgba(60, 64, 67, 0.15);\n",
              "      fill: #174EA6;\n",
              "    }\n",
              "\n",
              "    [theme=dark] .colab-df-convert {\n",
              "      background-color: #3B4455;\n",
              "      fill: #D2E3FC;\n",
              "    }\n",
              "\n",
              "    [theme=dark] .colab-df-convert:hover {\n",
              "      background-color: #434B5C;\n",
              "      box-shadow: 0px 1px 3px 1px rgba(0, 0, 0, 0.15);\n",
              "      filter: drop-shadow(0px 1px 2px rgba(0, 0, 0, 0.3));\n",
              "      fill: #FFFFFF;\n",
              "    }\n",
              "  </style>\n",
              "\n",
              "      <script>\n",
              "        const buttonEl =\n",
              "          document.querySelector('#df-24aab5bd-b35a-4900-b71f-23949043e2d6 button.colab-df-convert');\n",
              "        buttonEl.style.display =\n",
              "          google.colab.kernel.accessAllowed ? 'block' : 'none';\n",
              "\n",
              "        async function convertToInteractive(key) {\n",
              "          const element = document.querySelector('#df-24aab5bd-b35a-4900-b71f-23949043e2d6');\n",
              "          const dataTable =\n",
              "            await google.colab.kernel.invokeFunction('convertToInteractive',\n",
              "                                                     [key], {});\n",
              "          if (!dataTable) return;\n",
              "\n",
              "          const docLinkHtml = 'Like what you see? Visit the ' +\n",
              "            '<a target=\"_blank\" href=https://colab.research.google.com/notebooks/data_table.ipynb>data table notebook</a>'\n",
              "            + ' to learn more about interactive tables.';\n",
              "          element.innerHTML = '';\n",
              "          dataTable['output_type'] = 'display_data';\n",
              "          await google.colab.output.renderOutput(dataTable, element);\n",
              "          const docLink = document.createElement('div');\n",
              "          docLink.innerHTML = docLinkHtml;\n",
              "          element.appendChild(docLink);\n",
              "        }\n",
              "      </script>\n",
              "    </div>\n",
              "  </div>\n",
              "  "
            ]
          },
          "metadata": {},
          "execution_count": 73
        }
      ]
    },
    {
      "cell_type": "code",
      "source": [
        "df.head()"
      ],
      "metadata": {
        "colab": {
          "base_uri": "https://localhost:8080/",
          "height": 582
        },
        "id": "6WK_xAh60CKk",
        "outputId": "1fc351fb-a9b8-4457-d0c6-30b0c986c2f1"
      },
      "execution_count": 74,
      "outputs": [
        {
          "output_type": "execute_result",
          "data": {
            "text/plain": [
              "                                                 URL  Product_id   BrandName  \\\n",
              "0  https://www.myntra.com/jeans/roadster/roadster...     2296012    Roadster   \n",
              "1  https://www.myntra.com/track-pants/locomotive/...    13780156  LOCOMOTIVE   \n",
              "2  https://www.myntra.com/shirts/roadster/roadste...    11895958    Roadster   \n",
              "3  https://www.myntra.com/shapewear/zivame/zivame...     4335679      Zivame   \n",
              "4  https://www.myntra.com/tshirts/roadster/roadst...    11690882    Roadster   \n",
              "\n",
              "                Category Individual_category category_by_Gender  \\\n",
              "0            Bottom Wear               jeans                Men   \n",
              "1            Bottom Wear         track-pants                Men   \n",
              "2                Topwear              shirts                Men   \n",
              "3  Lingerie & Sleep Wear           shapewear              Women   \n",
              "4                Western             tshirts              Women   \n",
              "\n",
              "                                         Description  DiscountPrice (in Rs)  \\\n",
              "0  roadster men navy blue slim fit mid rise clean...                  824.0   \n",
              "1  locomotive men black  white solid slim fit tra...                  517.0   \n",
              "2  roadster men navy white  black geometric print...                  629.0   \n",
              "3  zivame women black saree shapewear zi3023core0...                  893.0   \n",
              "4  roadster women white solid v neck pure cotton ...                    NaN   \n",
              "\n",
              "   OriginalPrice (in Rs) DiscountOffer              SizeOption  Ratings  \\\n",
              "0                   1499       45% OFF      28, 30, 32, 34, 36      3.9   \n",
              "1                   1149       55% OFF             S, M, L, XL      4.0   \n",
              "2                   1399       55% OFF  38, 40, 42, 44, 46, 48      4.3   \n",
              "3                   1295       31% OFF        S, M, L, XL, XXL      4.2   \n",
              "4                    599       35% OFF         XS, S, M, L, XL      4.2   \n",
              "\n",
              "   Reviews  \n",
              "0    999.0  \n",
              "1    999.0  \n",
              "2    999.0  \n",
              "3    999.0  \n",
              "4    999.0  "
            ],
            "text/html": [
              "\n",
              "  <div id=\"df-7ea3a3f1-ea56-4573-9300-ca8c356832a3\">\n",
              "    <div class=\"colab-df-container\">\n",
              "      <div>\n",
              "<style scoped>\n",
              "    .dataframe tbody tr th:only-of-type {\n",
              "        vertical-align: middle;\n",
              "    }\n",
              "\n",
              "    .dataframe tbody tr th {\n",
              "        vertical-align: top;\n",
              "    }\n",
              "\n",
              "    .dataframe thead th {\n",
              "        text-align: right;\n",
              "    }\n",
              "</style>\n",
              "<table border=\"1\" class=\"dataframe\">\n",
              "  <thead>\n",
              "    <tr style=\"text-align: right;\">\n",
              "      <th></th>\n",
              "      <th>URL</th>\n",
              "      <th>Product_id</th>\n",
              "      <th>BrandName</th>\n",
              "      <th>Category</th>\n",
              "      <th>Individual_category</th>\n",
              "      <th>category_by_Gender</th>\n",
              "      <th>Description</th>\n",
              "      <th>DiscountPrice (in Rs)</th>\n",
              "      <th>OriginalPrice (in Rs)</th>\n",
              "      <th>DiscountOffer</th>\n",
              "      <th>SizeOption</th>\n",
              "      <th>Ratings</th>\n",
              "      <th>Reviews</th>\n",
              "    </tr>\n",
              "  </thead>\n",
              "  <tbody>\n",
              "    <tr>\n",
              "      <th>0</th>\n",
              "      <td>https://www.myntra.com/jeans/roadster/roadster...</td>\n",
              "      <td>2296012</td>\n",
              "      <td>Roadster</td>\n",
              "      <td>Bottom Wear</td>\n",
              "      <td>jeans</td>\n",
              "      <td>Men</td>\n",
              "      <td>roadster men navy blue slim fit mid rise clean...</td>\n",
              "      <td>824.0</td>\n",
              "      <td>1499</td>\n",
              "      <td>45% OFF</td>\n",
              "      <td>28, 30, 32, 34, 36</td>\n",
              "      <td>3.9</td>\n",
              "      <td>999.0</td>\n",
              "    </tr>\n",
              "    <tr>\n",
              "      <th>1</th>\n",
              "      <td>https://www.myntra.com/track-pants/locomotive/...</td>\n",
              "      <td>13780156</td>\n",
              "      <td>LOCOMOTIVE</td>\n",
              "      <td>Bottom Wear</td>\n",
              "      <td>track-pants</td>\n",
              "      <td>Men</td>\n",
              "      <td>locomotive men black  white solid slim fit tra...</td>\n",
              "      <td>517.0</td>\n",
              "      <td>1149</td>\n",
              "      <td>55% OFF</td>\n",
              "      <td>S, M, L, XL</td>\n",
              "      <td>4.0</td>\n",
              "      <td>999.0</td>\n",
              "    </tr>\n",
              "    <tr>\n",
              "      <th>2</th>\n",
              "      <td>https://www.myntra.com/shirts/roadster/roadste...</td>\n",
              "      <td>11895958</td>\n",
              "      <td>Roadster</td>\n",
              "      <td>Topwear</td>\n",
              "      <td>shirts</td>\n",
              "      <td>Men</td>\n",
              "      <td>roadster men navy white  black geometric print...</td>\n",
              "      <td>629.0</td>\n",
              "      <td>1399</td>\n",
              "      <td>55% OFF</td>\n",
              "      <td>38, 40, 42, 44, 46, 48</td>\n",
              "      <td>4.3</td>\n",
              "      <td>999.0</td>\n",
              "    </tr>\n",
              "    <tr>\n",
              "      <th>3</th>\n",
              "      <td>https://www.myntra.com/shapewear/zivame/zivame...</td>\n",
              "      <td>4335679</td>\n",
              "      <td>Zivame</td>\n",
              "      <td>Lingerie &amp; Sleep Wear</td>\n",
              "      <td>shapewear</td>\n",
              "      <td>Women</td>\n",
              "      <td>zivame women black saree shapewear zi3023core0...</td>\n",
              "      <td>893.0</td>\n",
              "      <td>1295</td>\n",
              "      <td>31% OFF</td>\n",
              "      <td>S, M, L, XL, XXL</td>\n",
              "      <td>4.2</td>\n",
              "      <td>999.0</td>\n",
              "    </tr>\n",
              "    <tr>\n",
              "      <th>4</th>\n",
              "      <td>https://www.myntra.com/tshirts/roadster/roadst...</td>\n",
              "      <td>11690882</td>\n",
              "      <td>Roadster</td>\n",
              "      <td>Western</td>\n",
              "      <td>tshirts</td>\n",
              "      <td>Women</td>\n",
              "      <td>roadster women white solid v neck pure cotton ...</td>\n",
              "      <td>NaN</td>\n",
              "      <td>599</td>\n",
              "      <td>35% OFF</td>\n",
              "      <td>XS, S, M, L, XL</td>\n",
              "      <td>4.2</td>\n",
              "      <td>999.0</td>\n",
              "    </tr>\n",
              "  </tbody>\n",
              "</table>\n",
              "</div>\n",
              "      <button class=\"colab-df-convert\" onclick=\"convertToInteractive('df-7ea3a3f1-ea56-4573-9300-ca8c356832a3')\"\n",
              "              title=\"Convert this dataframe to an interactive table.\"\n",
              "              style=\"display:none;\">\n",
              "        \n",
              "  <svg xmlns=\"http://www.w3.org/2000/svg\" height=\"24px\"viewBox=\"0 0 24 24\"\n",
              "       width=\"24px\">\n",
              "    <path d=\"M0 0h24v24H0V0z\" fill=\"none\"/>\n",
              "    <path d=\"M18.56 5.44l.94 2.06.94-2.06 2.06-.94-2.06-.94-.94-2.06-.94 2.06-2.06.94zm-11 1L8.5 8.5l.94-2.06 2.06-.94-2.06-.94L8.5 2.5l-.94 2.06-2.06.94zm10 10l.94 2.06.94-2.06 2.06-.94-2.06-.94-.94-2.06-.94 2.06-2.06.94z\"/><path d=\"M17.41 7.96l-1.37-1.37c-.4-.4-.92-.59-1.43-.59-.52 0-1.04.2-1.43.59L10.3 9.45l-7.72 7.72c-.78.78-.78 2.05 0 2.83L4 21.41c.39.39.9.59 1.41.59.51 0 1.02-.2 1.41-.59l7.78-7.78 2.81-2.81c.8-.78.8-2.07 0-2.86zM5.41 20L4 18.59l7.72-7.72 1.47 1.35L5.41 20z\"/>\n",
              "  </svg>\n",
              "      </button>\n",
              "      \n",
              "  <style>\n",
              "    .colab-df-container {\n",
              "      display:flex;\n",
              "      flex-wrap:wrap;\n",
              "      gap: 12px;\n",
              "    }\n",
              "\n",
              "    .colab-df-convert {\n",
              "      background-color: #E8F0FE;\n",
              "      border: none;\n",
              "      border-radius: 50%;\n",
              "      cursor: pointer;\n",
              "      display: none;\n",
              "      fill: #1967D2;\n",
              "      height: 32px;\n",
              "      padding: 0 0 0 0;\n",
              "      width: 32px;\n",
              "    }\n",
              "\n",
              "    .colab-df-convert:hover {\n",
              "      background-color: #E2EBFA;\n",
              "      box-shadow: 0px 1px 2px rgba(60, 64, 67, 0.3), 0px 1px 3px 1px rgba(60, 64, 67, 0.15);\n",
              "      fill: #174EA6;\n",
              "    }\n",
              "\n",
              "    [theme=dark] .colab-df-convert {\n",
              "      background-color: #3B4455;\n",
              "      fill: #D2E3FC;\n",
              "    }\n",
              "\n",
              "    [theme=dark] .colab-df-convert:hover {\n",
              "      background-color: #434B5C;\n",
              "      box-shadow: 0px 1px 3px 1px rgba(0, 0, 0, 0.15);\n",
              "      filter: drop-shadow(0px 1px 2px rgba(0, 0, 0, 0.3));\n",
              "      fill: #FFFFFF;\n",
              "    }\n",
              "  </style>\n",
              "\n",
              "      <script>\n",
              "        const buttonEl =\n",
              "          document.querySelector('#df-7ea3a3f1-ea56-4573-9300-ca8c356832a3 button.colab-df-convert');\n",
              "        buttonEl.style.display =\n",
              "          google.colab.kernel.accessAllowed ? 'block' : 'none';\n",
              "\n",
              "        async function convertToInteractive(key) {\n",
              "          const element = document.querySelector('#df-7ea3a3f1-ea56-4573-9300-ca8c356832a3');\n",
              "          const dataTable =\n",
              "            await google.colab.kernel.invokeFunction('convertToInteractive',\n",
              "                                                     [key], {});\n",
              "          if (!dataTable) return;\n",
              "\n",
              "          const docLinkHtml = 'Like what you see? Visit the ' +\n",
              "            '<a target=\"_blank\" href=https://colab.research.google.com/notebooks/data_table.ipynb>data table notebook</a>'\n",
              "            + ' to learn more about interactive tables.';\n",
              "          element.innerHTML = '';\n",
              "          dataTable['output_type'] = 'display_data';\n",
              "          await google.colab.output.renderOutput(dataTable, element);\n",
              "          const docLink = document.createElement('div');\n",
              "          docLink.innerHTML = docLinkHtml;\n",
              "          element.appendChild(docLink);\n",
              "        }\n",
              "      </script>\n",
              "    </div>\n",
              "  </div>\n",
              "  "
            ]
          },
          "metadata": {},
          "execution_count": 74
        }
      ]
    },
    {
      "cell_type": "code",
      "source": [
        "df.tail()"
      ],
      "metadata": {
        "colab": {
          "base_uri": "https://localhost:8080/",
          "height": 617
        },
        "id": "hUHQ3NJ50p3w",
        "outputId": "4f1f36bd-fab4-4ef9-c97b-1f37d52590ac"
      },
      "execution_count": 75,
      "outputs": [
        {
          "output_type": "execute_result",
          "data": {
            "text/plain": [
              "                                                     URL  Product_id  \\\n",
              "32299  https://www.myntra.com/trunk/jockey/jockey-int...    11036168   \n",
              "32300  https://www.myntra.com/briefs/xyxx/xyxx-men-gr...    13889998   \n",
              "32301  https://www.myntra.com/briefs/damensch/damensc...    12158054   \n",
              "32302  https://www.myntra.com/lounge-shorts/damensch/...    15764990   \n",
              "32303  https://www.myntra.com/tshirts/sztori/sztori-m...    14545566   \n",
              "\n",
              "      BrandName                  Category Individual_category  \\\n",
              "32299    Jockey  Inner Wear &  Sleep Wear               trunk   \n",
              "32300      XYXX  Inner Wear &  Sleep Wear              briefs   \n",
              "32301  DAMENSCH  Inner Wear &  Sleep Wear              briefs   \n",
              "32302  DAMENSCH  Inner Wear &  Sleep Wear       lounge-shorts   \n",
              "32303    Sztori                 Plus Size             tshirts   \n",
              "\n",
              "      category_by_Gender                                        Description  \\\n",
              "32299                Men  jockey international collection men black soli...   \n",
              "32300                Men  xyxx men grey solid ultra soft antimicrobial b...   \n",
              "32301                Men  damensch men deo soft deodorizing micro modal ...   \n",
              "32302                Men               damensch men navy blue lounge shorts   \n",
              "32303                Men  sztori men plus size olive green solid band co...   \n",
              "\n",
              "       DiscountPrice (in Rs)  OriginalPrice (in Rs) DiscountOffer  \\\n",
              "32299                    NaN                    439           NaN   \n",
              "32300                    NaN                    249           NaN   \n",
              "32301                    NaN                    540           NaN   \n",
              "32302                    NaN                    799           NaN   \n",
              "32303                  719.0                   1599             5   \n",
              "\n",
              "             SizeOption  Ratings  Reviews  \n",
              "32299                XL      4.3     82.0  \n",
              "32300  S, M, L, XL, XXL      3.9     82.0  \n",
              "32301  S, M, L, XL, XXL      4.2     82.0  \n",
              "32302  S, M, L, XL, XXL      4.6     82.0  \n",
              "32303               NaN      NaN      NaN  "
            ],
            "text/html": [
              "\n",
              "  <div id=\"df-2a1e47d2-d2fb-4a87-b063-643c799ba4b1\">\n",
              "    <div class=\"colab-df-container\">\n",
              "      <div>\n",
              "<style scoped>\n",
              "    .dataframe tbody tr th:only-of-type {\n",
              "        vertical-align: middle;\n",
              "    }\n",
              "\n",
              "    .dataframe tbody tr th {\n",
              "        vertical-align: top;\n",
              "    }\n",
              "\n",
              "    .dataframe thead th {\n",
              "        text-align: right;\n",
              "    }\n",
              "</style>\n",
              "<table border=\"1\" class=\"dataframe\">\n",
              "  <thead>\n",
              "    <tr style=\"text-align: right;\">\n",
              "      <th></th>\n",
              "      <th>URL</th>\n",
              "      <th>Product_id</th>\n",
              "      <th>BrandName</th>\n",
              "      <th>Category</th>\n",
              "      <th>Individual_category</th>\n",
              "      <th>category_by_Gender</th>\n",
              "      <th>Description</th>\n",
              "      <th>DiscountPrice (in Rs)</th>\n",
              "      <th>OriginalPrice (in Rs)</th>\n",
              "      <th>DiscountOffer</th>\n",
              "      <th>SizeOption</th>\n",
              "      <th>Ratings</th>\n",
              "      <th>Reviews</th>\n",
              "    </tr>\n",
              "  </thead>\n",
              "  <tbody>\n",
              "    <tr>\n",
              "      <th>32299</th>\n",
              "      <td>https://www.myntra.com/trunk/jockey/jockey-int...</td>\n",
              "      <td>11036168</td>\n",
              "      <td>Jockey</td>\n",
              "      <td>Inner Wear &amp;  Sleep Wear</td>\n",
              "      <td>trunk</td>\n",
              "      <td>Men</td>\n",
              "      <td>jockey international collection men black soli...</td>\n",
              "      <td>NaN</td>\n",
              "      <td>439</td>\n",
              "      <td>NaN</td>\n",
              "      <td>XL</td>\n",
              "      <td>4.3</td>\n",
              "      <td>82.0</td>\n",
              "    </tr>\n",
              "    <tr>\n",
              "      <th>32300</th>\n",
              "      <td>https://www.myntra.com/briefs/xyxx/xyxx-men-gr...</td>\n",
              "      <td>13889998</td>\n",
              "      <td>XYXX</td>\n",
              "      <td>Inner Wear &amp;  Sleep Wear</td>\n",
              "      <td>briefs</td>\n",
              "      <td>Men</td>\n",
              "      <td>xyxx men grey solid ultra soft antimicrobial b...</td>\n",
              "      <td>NaN</td>\n",
              "      <td>249</td>\n",
              "      <td>NaN</td>\n",
              "      <td>S, M, L, XL, XXL</td>\n",
              "      <td>3.9</td>\n",
              "      <td>82.0</td>\n",
              "    </tr>\n",
              "    <tr>\n",
              "      <th>32301</th>\n",
              "      <td>https://www.myntra.com/briefs/damensch/damensc...</td>\n",
              "      <td>12158054</td>\n",
              "      <td>DAMENSCH</td>\n",
              "      <td>Inner Wear &amp;  Sleep Wear</td>\n",
              "      <td>briefs</td>\n",
              "      <td>Men</td>\n",
              "      <td>damensch men deo soft deodorizing micro modal ...</td>\n",
              "      <td>NaN</td>\n",
              "      <td>540</td>\n",
              "      <td>NaN</td>\n",
              "      <td>S, M, L, XL, XXL</td>\n",
              "      <td>4.2</td>\n",
              "      <td>82.0</td>\n",
              "    </tr>\n",
              "    <tr>\n",
              "      <th>32302</th>\n",
              "      <td>https://www.myntra.com/lounge-shorts/damensch/...</td>\n",
              "      <td>15764990</td>\n",
              "      <td>DAMENSCH</td>\n",
              "      <td>Inner Wear &amp;  Sleep Wear</td>\n",
              "      <td>lounge-shorts</td>\n",
              "      <td>Men</td>\n",
              "      <td>damensch men navy blue lounge shorts</td>\n",
              "      <td>NaN</td>\n",
              "      <td>799</td>\n",
              "      <td>NaN</td>\n",
              "      <td>S, M, L, XL, XXL</td>\n",
              "      <td>4.6</td>\n",
              "      <td>82.0</td>\n",
              "    </tr>\n",
              "    <tr>\n",
              "      <th>32303</th>\n",
              "      <td>https://www.myntra.com/tshirts/sztori/sztori-m...</td>\n",
              "      <td>14545566</td>\n",
              "      <td>Sztori</td>\n",
              "      <td>Plus Size</td>\n",
              "      <td>tshirts</td>\n",
              "      <td>Men</td>\n",
              "      <td>sztori men plus size olive green solid band co...</td>\n",
              "      <td>719.0</td>\n",
              "      <td>1599</td>\n",
              "      <td>5</td>\n",
              "      <td>NaN</td>\n",
              "      <td>NaN</td>\n",
              "      <td>NaN</td>\n",
              "    </tr>\n",
              "  </tbody>\n",
              "</table>\n",
              "</div>\n",
              "      <button class=\"colab-df-convert\" onclick=\"convertToInteractive('df-2a1e47d2-d2fb-4a87-b063-643c799ba4b1')\"\n",
              "              title=\"Convert this dataframe to an interactive table.\"\n",
              "              style=\"display:none;\">\n",
              "        \n",
              "  <svg xmlns=\"http://www.w3.org/2000/svg\" height=\"24px\"viewBox=\"0 0 24 24\"\n",
              "       width=\"24px\">\n",
              "    <path d=\"M0 0h24v24H0V0z\" fill=\"none\"/>\n",
              "    <path d=\"M18.56 5.44l.94 2.06.94-2.06 2.06-.94-2.06-.94-.94-2.06-.94 2.06-2.06.94zm-11 1L8.5 8.5l.94-2.06 2.06-.94-2.06-.94L8.5 2.5l-.94 2.06-2.06.94zm10 10l.94 2.06.94-2.06 2.06-.94-2.06-.94-.94-2.06-.94 2.06-2.06.94z\"/><path d=\"M17.41 7.96l-1.37-1.37c-.4-.4-.92-.59-1.43-.59-.52 0-1.04.2-1.43.59L10.3 9.45l-7.72 7.72c-.78.78-.78 2.05 0 2.83L4 21.41c.39.39.9.59 1.41.59.51 0 1.02-.2 1.41-.59l7.78-7.78 2.81-2.81c.8-.78.8-2.07 0-2.86zM5.41 20L4 18.59l7.72-7.72 1.47 1.35L5.41 20z\"/>\n",
              "  </svg>\n",
              "      </button>\n",
              "      \n",
              "  <style>\n",
              "    .colab-df-container {\n",
              "      display:flex;\n",
              "      flex-wrap:wrap;\n",
              "      gap: 12px;\n",
              "    }\n",
              "\n",
              "    .colab-df-convert {\n",
              "      background-color: #E8F0FE;\n",
              "      border: none;\n",
              "      border-radius: 50%;\n",
              "      cursor: pointer;\n",
              "      display: none;\n",
              "      fill: #1967D2;\n",
              "      height: 32px;\n",
              "      padding: 0 0 0 0;\n",
              "      width: 32px;\n",
              "    }\n",
              "\n",
              "    .colab-df-convert:hover {\n",
              "      background-color: #E2EBFA;\n",
              "      box-shadow: 0px 1px 2px rgba(60, 64, 67, 0.3), 0px 1px 3px 1px rgba(60, 64, 67, 0.15);\n",
              "      fill: #174EA6;\n",
              "    }\n",
              "\n",
              "    [theme=dark] .colab-df-convert {\n",
              "      background-color: #3B4455;\n",
              "      fill: #D2E3FC;\n",
              "    }\n",
              "\n",
              "    [theme=dark] .colab-df-convert:hover {\n",
              "      background-color: #434B5C;\n",
              "      box-shadow: 0px 1px 3px 1px rgba(0, 0, 0, 0.15);\n",
              "      filter: drop-shadow(0px 1px 2px rgba(0, 0, 0, 0.3));\n",
              "      fill: #FFFFFF;\n",
              "    }\n",
              "  </style>\n",
              "\n",
              "      <script>\n",
              "        const buttonEl =\n",
              "          document.querySelector('#df-2a1e47d2-d2fb-4a87-b063-643c799ba4b1 button.colab-df-convert');\n",
              "        buttonEl.style.display =\n",
              "          google.colab.kernel.accessAllowed ? 'block' : 'none';\n",
              "\n",
              "        async function convertToInteractive(key) {\n",
              "          const element = document.querySelector('#df-2a1e47d2-d2fb-4a87-b063-643c799ba4b1');\n",
              "          const dataTable =\n",
              "            await google.colab.kernel.invokeFunction('convertToInteractive',\n",
              "                                                     [key], {});\n",
              "          if (!dataTable) return;\n",
              "\n",
              "          const docLinkHtml = 'Like what you see? Visit the ' +\n",
              "            '<a target=\"_blank\" href=https://colab.research.google.com/notebooks/data_table.ipynb>data table notebook</a>'\n",
              "            + ' to learn more about interactive tables.';\n",
              "          element.innerHTML = '';\n",
              "          dataTable['output_type'] = 'display_data';\n",
              "          await google.colab.output.renderOutput(dataTable, element);\n",
              "          const docLink = document.createElement('div');\n",
              "          docLink.innerHTML = docLinkHtml;\n",
              "          element.appendChild(docLink);\n",
              "        }\n",
              "      </script>\n",
              "    </div>\n",
              "  </div>\n",
              "  "
            ]
          },
          "metadata": {},
          "execution_count": 75
        }
      ]
    },
    {
      "cell_type": "markdown",
      "source": [
        "Matplotlib"
      ],
      "metadata": {
        "id": "1mkqqPIW1itd"
      }
    },
    {
      "cell_type": "code",
      "source": [
        "import matplotlib.pyplot as plt\n",
        "\n",
        "#(0,6) (4,12)\n",
        "import numpy as np\n",
        "\n",
        "xpoints=np.array([0,4])\n",
        "ypoints =np.array([6,12])\n",
        "\n",
        "plt.plot(xpoints,ypoints)\n",
        "plt.show()"
      ],
      "metadata": {
        "colab": {
          "base_uri": "https://localhost:8080/",
          "height": 265
        },
        "id": "BS8P7r-V0wCi",
        "outputId": "d2f60c1e-3cec-41da-86fe-fe055a4a9c82"
      },
      "execution_count": 76,
      "outputs": [
        {
          "output_type": "display_data",
          "data": {
            "text/plain": [
              "<Figure size 432x288 with 1 Axes>"
            ],
            "image/png": "[encoded data removed]"
          },
          "metadata": {
            "needs_background": "light"
          }
        }
      ]
    },
    {
      "cell_type": "code",
      "source": [
        "#(0,6) (4,12)\n",
        "\n",
        "xpoints=np.array([0,4])\n",
        "ypoints =np.array([6,12])\n",
        "\n",
        "plt.plot(xpoints,ypoints,'o')\n",
        "plt.show()"
      ],
      "metadata": {
        "colab": {
          "base_uri": "https://localhost:8080/",
          "height": 265
        },
        "id": "ZSW9fA3I2Zmu",
        "outputId": "e2945478-c13b-4391-a735-985ec11bf64b"
      },
      "execution_count": 78,
      "outputs": [
        {
          "output_type": "display_data",
          "data": {
            "text/plain": [
              "<Figure size 432x288 with 1 Axes>"
            ],
            "image/png": "[encoded data removed]"
          },
          "metadata": {
            "needs_background": "light"
          }
        }
      ]
    },
    {
      "cell_type": "code",
      "source": [
        "\n",
        "xpoints=np.array([0,4,6,3,7,10,16])\n",
        "ypoints =np.array([6,12,6,8,0,1,7])\n",
        "\n",
        "plt.plot(xpoints,ypoints)\n",
        "plt.show()"
      ],
      "metadata": {
        "colab": {
          "base_uri": "https://localhost:8080/",
          "height": 265
        },
        "id": "qFPTUWKT25EQ",
        "outputId": "16910a94-1fb9-492e-fd7d-4b3a2993cf87"
      },
      "execution_count": 79,
      "outputs": [
        {
          "output_type": "display_data",
          "data": {
            "text/plain": [
              "<Figure size 432x288 with 1 Axes>"
            ],
            "image/png": "[encoded data removed]"
          },
          "metadata": {
            "needs_background": "light"
          }
        }
      ]
    },
    {
      "cell_type": "code",
      "source": [
        "#(0,6) (4,12)\n",
        "\n",
        "xpoints=np.array([0,4])\n",
        "ypoints =np.array([6,12])\n",
        "\n",
        "plt.plot(xpoints,ypoints,marker='*')\n",
        "plt.show()"
      ],
      "metadata": {
        "colab": {
          "base_uri": "https://localhost:8080/",
          "height": 265
        },
        "id": "TRnhF-sD3Izb",
        "outputId": "6c49734e-9aba-4169-c839-2023be146784"
      },
      "execution_count": 83,
      "outputs": [
        {
          "output_type": "display_data",
          "data": {
            "text/plain": [
              "<Figure size 432x288 with 1 Axes>"
            ],
            "image/png": "[encoded data removed]"
          },
          "metadata": {
            "needs_background": "light"
          }
        }
      ]
    },
    {
      "cell_type": "code",
      "source": [
        "#(0,6) (4,12)\n",
        "\n",
        "xpoints=np.array([0,4])\n",
        "ypoints =np.array([6,12])\n",
        "\n",
        "plt.plot(xpoints,ypoints,linestyle=\"dashed\",linewidth='5.25')\n",
        "plt.show()"
      ],
      "metadata": {
        "colab": {
          "base_uri": "https://localhost:8080/",
          "height": 265
        },
        "id": "kW4aR8rd3aBQ",
        "outputId": "5ce17169-faa8-45c3-d141-d7736735a599"
      },
      "execution_count": 89,
      "outputs": [
        {
          "output_type": "display_data",
          "data": {
            "text/plain": [
              "<Figure size 432x288 with 1 Axes>"
            ],
            "image/png": "[encoded data removed]"
          },
          "metadata": {
            "needs_background": "light"
          }
        }
      ]
    },
    {
      "cell_type": "code",
      "source": [
        "\n",
        "xpoints=np.array([10,4,5,7,8,11])\n",
        "ypoints =np.array([6,12,4,7,8,12])\n",
        "\n",
        "plt.plot(xpoints)\n",
        "plt.plot(ypoints)\n",
        "\n",
        "plt.show()"
      ],
      "metadata": {
        "colab": {
          "base_uri": "https://localhost:8080/",
          "height": 265
        },
        "id": "9xLc6NNw3jpd",
        "outputId": "d143e085-1cee-4bb4-b1d1-d4bc66506775"
      },
      "execution_count": 90,
      "outputs": [
        {
          "output_type": "display_data",
          "data": {
            "text/plain": [
              "<Figure size 432x288 with 1 Axes>"
            ],
            "image/png": "[encoded data removed]"
          },
          "metadata": {
            "needs_background": "light"
          }
        }
      ]
    },
    {
      "cell_type": "code",
      "source": [
        "xpoints=np.array([10,4,5,7,8,11])\n",
        "ypoints =np.array([6,12,4,7,8,12])\n",
        "\n",
        "plt.plot(xpoints)\n",
        "plt.plot(ypoints)\n",
        "\n",
        "plt.xlabel('Sales')\n",
        "plt.ylabel('Revenue')\n",
        "\n",
        "plt.title(\"Sales and revenue chart for the year 2021\")\n",
        "\n",
        "plt.show()"
      ],
      "metadata": {
        "colab": {
          "base_uri": "https://localhost:8080/",
          "height": 295
        },
        "id": "yqW4tXe84bvr",
        "outputId": "39a70b85-438e-414f-9c2b-3626d50b64de"
      },
      "execution_count": 93,
      "outputs": [
        {
          "output_type": "display_data",
          "data": {
            "text/plain": [
              "<Figure size 432x288 with 1 Axes>"
            ],
            "image/png": "[encoded data removed]"
          },
          "metadata": {
            "needs_background": "light"
          }
        }
      ]
    },
    {
      "cell_type": "code",
      "source": [
        "xpoints=np.array([10,4,5,7,8,11])\n",
        "ypoints =np.array([6,12,4,7,8,12])\n",
        "\n",
        "plt.plot(xpoints)\n",
        "plt.plot(ypoints)\n",
        "\n",
        "plt.xlabel('Sales')\n",
        "plt.ylabel('Revenue')\n",
        "\n",
        "plt.title(\"Sales and revenue chart for the year 2021\")\n",
        "plt.grid()\n",
        "\n",
        "plt.show()"
      ],
      "metadata": {
        "colab": {
          "base_uri": "https://localhost:8080/",
          "height": 295
        },
        "id": "obdgd0Wn4rLh",
        "outputId": "ca8afc25-7cb1-4d89-b310-5964c15ca291"
      },
      "execution_count": 94,
      "outputs": [
        {
          "output_type": "display_data",
          "data": {
            "text/plain": [
              "<Figure size 432x288 with 1 Axes>"
            ],
            "image/png": "[encoded data removed]"
          },
          "metadata": {
            "needs_background": "light"
          }
        }
      ]
    },
    {
      "cell_type": "code",
      "source": [
        "xpoints=np.array([10,4,5,7,8,11])\n",
        "ypoints =np.array([6,12,4,7,8,12])\n",
        "\n",
        "plt.plot(xpoints)\n",
        "plt.plot(ypoints)\n",
        "\n",
        "plt.xlabel('Sales')\n",
        "plt.ylabel('Revenue')\n",
        "\n",
        "plt.title(\"Sales and revenue chart for the year 2021\")\n",
        "plt.grid(axis='x')\n",
        "\n",
        "plt.show()"
      ],
      "metadata": {
        "colab": {
          "base_uri": "https://localhost:8080/",
          "height": 295
        },
        "id": "n8YkbL905JPs",
        "outputId": "085cb275-d9a9-4984-dce7-d73d9be21a63"
      },
      "execution_count": 95,
      "outputs": [
        {
          "output_type": "display_data",
          "data": {
            "text/plain": [
              "<Figure size 432x288 with 1 Axes>"
            ],
            "image/png": "[encoded data removed]"
          },
          "metadata": {
            "needs_background": "light"
          }
        }
      ]
    },
    {
      "cell_type": "code",
      "source": [
        "xpoints=np.array([10,4,5,7,8,11])\n",
        "ypoints =np.array([6,12,4,7,8,12])\n",
        "\n",
        "plt.plot(xpoints)\n",
        "plt.plot(ypoints)\n",
        "\n",
        "plt.xlabel('Sales')\n",
        "plt.ylabel('Revenue')\n",
        "\n",
        "plt.title(\"Sales and revenue chart for the year 2021\")\n",
        "plt.grid(axis='y')\n",
        "\n",
        "plt.show()"
      ],
      "metadata": {
        "colab": {
          "base_uri": "https://localhost:8080/",
          "height": 295
        },
        "id": "IKz6bHuQ5UKA",
        "outputId": "884d720b-bf24-48c9-bf62-82527309232d"
      },
      "execution_count": 96,
      "outputs": [
        {
          "output_type": "display_data",
          "data": {
            "text/plain": [
              "<Figure size 432x288 with 1 Axes>"
            ],
            "image/png": "[encoded data removed]"
          },
          "metadata": {
            "needs_background": "light"
          }
        }
      ]
    },
    {
      "cell_type": "code",
      "source": [
        "xpoints=np.array([10,4,5,7,8,11])\n",
        "ypoints =np.array([6,12,4,7,8,12])\n",
        "\n",
        "plt.subplot(2,1,1)\n",
        "plt.plot(xpoints)\n",
        "\n",
        "plt.subplot(2,1,2)\n",
        "plt.plot(ypoints)\n",
        "\n",
        "\n",
        "\n",
        "plt.show()"
      ],
      "metadata": {
        "colab": {
          "base_uri": "https://localhost:8080/",
          "height": 265
        },
        "id": "P6miC3K45Yc_",
        "outputId": "87cf70e3-4a41-41f5-c9ea-ba059b1f18d1"
      },
      "execution_count": 98,
      "outputs": [
        {
          "output_type": "display_data",
          "data": {
            "text/plain": [
              "<Figure size 432x288 with 2 Axes>"
            ],
            "image/png": "[encoded data removed]"
          },
          "metadata": {
            "needs_background": "light"
          }
        }
      ]
    },
    {
      "cell_type": "code",
      "source": [
        "xpoints=np.array([10,4,5,7,8,11])\n",
        "ypoints =np.array([6,12,4,7,8,12])\n",
        "\n",
        "y1=np.array([10,4,5,7,8,11])\n",
        "x1 =np.array([6,12,4,7,8,12])\n",
        "\n",
        "\n",
        "plt.scatter(xpoints,ypoints, c=\"black\")\n",
        "plt.scatter(x1,y1, c='hotpink')\n",
        "\n",
        "plt.show()"
      ],
      "metadata": {
        "colab": {
          "base_uri": "https://localhost:8080/",
          "height": 265
        },
        "id": "yY0mUic07Voe",
        "outputId": "d396dd53-7f1e-4b4e-f566-443df13ec3fb"
      },
      "execution_count": 103,
      "outputs": [
        {
          "output_type": "display_data",
          "data": {
            "text/plain": [
              "<Figure size 432x288 with 1 Axes>"
            ],
            "image/png": "[encoded data removed]"
          },
          "metadata": {
            "needs_background": "light"
          }
        }
      ]
    },
    {
      "cell_type": "code",
      "source": [
        "xpoints=np.array([10,4,5,7,8,11])\n",
        "ypoints =np.array([6,12,4,7,8,12])\n",
        "\n",
        "plt.bar(xpoints,ypoints,width=0.8)\n",
        "plt.show()"
      ],
      "metadata": {
        "colab": {
          "base_uri": "https://localhost:8080/",
          "height": 265
        },
        "id": "drbJOsH68QLw",
        "outputId": "850361dd-2a41-49ee-b6f9-33db07591d1e"
      },
      "execution_count": 112,
      "outputs": [
        {
          "output_type": "display_data",
          "data": {
            "text/plain": [
              "<Figure size 432x288 with 1 Axes>"
            ],
            "image/png": "[encoded data removed]"
          },
          "metadata": {
            "needs_background": "light"
          }
        }
      ]
    },
    {
      "cell_type": "code",
      "source": [
        "xpoints=np.array([10,4,5,7,8,11])\n",
        "ypoints =np.array([6,12,4,7,8,12])\n",
        "\n",
        "plt.barh(xpoints,ypoints, color=\"blue\")\n",
        "plt.show()"
      ],
      "metadata": {
        "colab": {
          "base_uri": "https://localhost:8080/",
          "height": 265
        },
        "id": "dCPYnqMQ8zvg",
        "outputId": "56b2ab75-bb0b-4cc3-94e2-ccec0407e158"
      },
      "execution_count": 116,
      "outputs": [
        {
          "output_type": "display_data",
          "data": {
            "text/plain": [
              "<Figure size 432x288 with 1 Axes>"
            ],
            "image/png": "[encoded data removed]"
          },
          "metadata": {
            "needs_background": "light"
          }
        }
      ]
    },
    {
      "cell_type": "code",
      "source": [
        "x=np.random.normal(12,390,37)\n",
        "plt.hist(x)\n",
        "plt.show()"
      ],
      "metadata": {
        "colab": {
          "base_uri": "https://localhost:8080/",
          "height": 265
        },
        "id": "j66fGfkg9NJS",
        "outputId": "26acb73b-ff3d-4f30-f618-91ef20f6bca5"
      },
      "execution_count": 118,
      "outputs": [
        {
          "output_type": "display_data",
          "data": {
            "text/plain": [
              "<Figure size 432x288 with 1 Axes>"
            ],
            "image/png": "[encoded data removed]"
          },
          "metadata": {
            "needs_background": "light"
          }
        }
      ]
    },
    {
      "cell_type": "markdown",
      "source": [
        "PIE CHARTS"
      ],
      "metadata": {
        "id": "TzPhFPtS9u9C"
      }
    },
    {
      "cell_type": "code",
      "source": [
        "array=np.array([25,35,12,13,20,5])\n",
        "plt.pie(array)\n",
        "plt.show()"
      ],
      "metadata": {
        "colab": {
          "base_uri": "https://localhost:8080/",
          "height": 248
        },
        "id": "u1gz4k8o9t3O",
        "outputId": "60658a96-7eb8-4304-a1d9-f17568bbe13a"
      },
      "execution_count": 119,
      "outputs": [
        {
          "output_type": "display_data",
          "data": {
            "text/plain": [
              "<Figure size 432x288 with 1 Axes>"
            ],
            "image/png": "[encoded data removed]"
          },
          "metadata": {}
        }
      ]
    },
    {
      "cell_type": "code",
      "source": [
        "array=np.array([25,35,12,13,20,5]),\n",
        "my_labels= [\"Apples\",\"Bananas\",\"Carrot\",\"Mango\",\"Rice\",\"Wheat\"]\n",
        "my_explode=[0.14,0,0,0.1,0,0]\n",
        "my_colors=[\"blue\",\"hotpink\",\"yellow\",\"orange\",\"teal\",\"green\"]\n",
        "plt.pie(array,labels= my_labels, explode=my_explode, colors=my_colors)\n",
        "plt.show()"
      ],
      "metadata": {
        "colab": {
          "base_uri": "https://localhost:8080/",
          "height": 303
        },
        "id": "JjCIhso3-Flj",
        "outputId": "418ffb0e-a311-4d04-869c-cb96747ae87a"
      },
      "execution_count": 127,
      "outputs": [
        {
          "output_type": "stream",
          "name": "stderr",
          "text": [
            "/usr/local/lib/python3.7/dist-packages/ipykernel_launcher.py:5: MatplotlibDeprecationWarning: Non-1D inputs to pie() are currently squeeze()d, but this behavior is deprecated since 3.1 and will be removed in 3.3; pass a 1D array instead.\n",
            "  \"\"\"\n"
          ]
        },
        {
          "output_type": "display_data",
          "data": {
            "text/plain": [
              "<Figure size 432x288 with 1 Axes>"
            ],
            "image/png": "[encoded data removed]"
          },
          "metadata": {}
        }
      ]
    },
    {
      "cell_type": "code",
      "source": [],
      "metadata": {
        "id": "GQrJSv_P-eqA"
      },
      "execution_count": null,
      "outputs": []
    },
    {
      "cell_type": "markdown",
      "source": [],
      "metadata": {
        "id": "P41SNRMR-EfA"
      }
    }
  ]
}