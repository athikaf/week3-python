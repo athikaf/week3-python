{
  "nbformat": 4,
  "nbformat_minor": 0,
  "metadata": {
    "colab": {
      "provenance": [],
      "collapsed_sections": [],
      "authorship_tag": "ABX9TyN/oS/1UyH8YTjPiV2TDDx6",
      "include_colab_link": true
    },
    "kernelspec": {
      "name": "python3",
      "display_name": "Python 3"
    },
    "language_info": {
      "name": "python"
    }
  },
  "cells": [
    {
      "cell_type": "markdown",
      "metadata": {
        "id": "view-in-github",
        "colab_type": "text"
      },
      "source": [
        "<a href=\"https://colab.research.google.com/github/athikaf/week3-python/blob/main/Python_Masterclass.ipynb\" target=\"_parent\"><img src=\"https://colab.research.google.com/assets/colab-badge.svg\" alt=\"Open In Colab\"/></a>"
      ]
    },
    {
      "cell_type": "markdown",
      "source": [
        "Introduction"
      ],
      "metadata": {
        "id": "u0Dyzx8UYEgn"
      }
    },
    {
      "cell_type": "code",
      "execution_count": 1,
      "metadata": {
        "colab": {
          "base_uri": "https://localhost:8080/"
        },
        "id": "qgQYV3ZQX-KZ",
        "outputId": "84cbaeda-d5a8-44bd-9f6e-da93ea911332"
      },
      "outputs": [
        {
          "output_type": "stream",
          "name": "stdout",
          "text": [
            "Hello World!\n"
          ]
        }
      ],
      "source": [
        "print(\"Hello World!\")"
      ]
    },
    {
      "cell_type": "markdown",
      "source": [
        "Operators\n"
      ],
      "metadata": {
        "id": "yR4khcjGYdLD"
      }
    },
    {
      "cell_type": "code",
      "source": [
        "a= 3\n",
        "b=4\n",
        "print(a+b)"
      ],
      "metadata": {
        "colab": {
          "base_uri": "https://localhost:8080/"
        },
        "id": "mXPpW3iLYe8n",
        "outputId": "c83d45de-28dc-421e-ba1b-e299cdc730c8"
      },
      "execution_count": 2,
      "outputs": [
        {
          "output_type": "stream",
          "name": "stdout",
          "text": [
            "7\n"
          ]
        }
      ]
    },
    {
      "cell_type": "code",
      "source": [
        "a=3.5\n",
        "b=5\n",
        "print(a-b)\n",
        "print(a**b)\n"
      ],
      "metadata": {
        "colab": {
          "base_uri": "https://localhost:8080/"
        },
        "id": "-ZGmEJFeYnxi",
        "outputId": "f228d761-6649-42d3-b754-2f3fa38c18e0"
      },
      "execution_count": 4,
      "outputs": [
        {
          "output_type": "stream",
          "name": "stdout",
          "text": [
            "-1.5\n",
            "525.21875\n"
          ]
        }
      ]
    },
    {
      "cell_type": "code",
      "source": [
        "(3+8-9+(7**6))"
      ],
      "metadata": {
        "colab": {
          "base_uri": "https://localhost:8080/"
        },
        "id": "bN1YFsBRY3l5",
        "outputId": "daf2c4b6-042a-4ad1-f0b2-cf4fae43c817"
      },
      "execution_count": 6,
      "outputs": [
        {
          "output_type": "execute_result",
          "data": {
            "text/plain": [
              "117651"
            ]
          },
          "metadata": {},
          "execution_count": 6
        }
      ]
    },
    {
      "cell_type": "markdown",
      "source": [
        "4 inbuilt data types -lists tuples sets and dictionaries"
      ],
      "metadata": {
        "id": "x_xDMxK4Z8gW"
      }
    },
    {
      "cell_type": "markdown",
      "source": [
        "Lists"
      ],
      "metadata": {
        "id": "C03c9zXKaBxw"
      }
    },
    {
      "cell_type": "code",
      "source": [
        "list_1= [\"String\", 1, 4.56, {\"key\":\"Value\"},(123)]\n",
        "\n",
        "# print(list_1)\n",
        "# list_1.append(\"hi\")\n",
        "# list_1.pop(1)\n",
        "list_1.insert(2,\"hi\")\n",
        "list_1\n",
        "\n"
      ],
      "metadata": {
        "colab": {
          "base_uri": "https://localhost:8080/"
        },
        "id": "MCWnVAqNZw9U",
        "outputId": "3f0e4e53-222f-49ec-d641-a87687c398fd"
      },
      "execution_count": 41,
      "outputs": [
        {
          "output_type": "execute_result",
          "data": {
            "text/plain": [
              "['String', 1, 'hi', 4.56, {'key': 'Value'}, 123]"
            ]
          },
          "metadata": {},
          "execution_count": 41
        }
      ]
    },
    {
      "cell_type": "code",
      "source": [
        "list_2=[2,5,8,90,7,900]\n",
        "print(max(list_2))"
      ],
      "metadata": {
        "colab": {
          "base_uri": "https://localhost:8080/"
        },
        "id": "FXkGXLKxameg",
        "outputId": "86feacf0-36f4-4054-b71d-f41d04e75641"
      },
      "execution_count": 8,
      "outputs": [
        {
          "output_type": "stream",
          "name": "stdout",
          "text": [
            "900\n"
          ]
        }
      ]
    },
    {
      "cell_type": "markdown",
      "source": [
        "Slicing"
      ],
      "metadata": {
        "id": "CnBe5I6qa3H_"
      }
    },
    {
      "cell_type": "code",
      "source": [
        "list_3=[\"Hi\",\"Welcome\",\"to \",\"todays \",\"session\"]\n",
        "\n",
        "# list_3[0]\n",
        "# list_3[len(list_3)-1]\n",
        "# list_3[-1]\n",
        "# list_3[-5]\n"
      ],
      "metadata": {
        "id": "4NYp4M5Qa2an"
      },
      "execution_count": 14,
      "outputs": []
    },
    {
      "cell_type": "code",
      "source": [
        "String1=\"Hello Ifra here\"\n",
        "len(String1)"
      ],
      "metadata": {
        "colab": {
          "base_uri": "https://localhost:8080/"
        },
        "id": "aYWNPRxRbwJW",
        "outputId": "5d1fc89b-1cd3-4585-a9e3-190da822da38"
      },
      "execution_count": 18,
      "outputs": [
        {
          "output_type": "execute_result",
          "data": {
            "text/plain": [
              "15"
            ]
          },
          "metadata": {},
          "execution_count": 18
        }
      ]
    },
    {
      "cell_type": "markdown",
      "source": [
        "Reverse the string"
      ],
      "metadata": {
        "id": "Fl-xJEDib96k"
      }
    },
    {
      "cell_type": "code",
      "source": [
        "String1[-1]"
      ],
      "metadata": {
        "colab": {
          "base_uri": "https://localhost:8080/",
          "height": 35
        },
        "id": "4yyubScXb9jC",
        "outputId": "316b4ca4-6c35-4fe7-fa49-3cad2e6e8367"
      },
      "execution_count": 19,
      "outputs": [
        {
          "output_type": "execute_result",
          "data": {
            "text/plain": [
              "'e'"
            ],
            "application/vnd.google.colaboratory.intrinsic+json": {
              "type": "string"
            }
          },
          "metadata": {},
          "execution_count": 19
        }
      ]
    },
    {
      "cell_type": "code",
      "source": [
        "String1[::-2]"
      ],
      "metadata": {
        "colab": {
          "base_uri": "https://localhost:8080/",
          "height": 35
        },
        "id": "jgGYfvvkcYuA",
        "outputId": "bdbf4124-02b4-4a44-99c5-7811d8a3dae5"
      },
      "execution_count": 22,
      "outputs": [
        {
          "output_type": "execute_result",
          "data": {
            "text/plain": [
              "'ee rIolH'"
            ],
            "application/vnd.google.colaboratory.intrinsic+json": {
              "type": "string"
            }
          },
          "metadata": {},
          "execution_count": 22
        }
      ]
    },
    {
      "cell_type": "code",
      "source": [
        "String1[2:6]"
      ],
      "metadata": {
        "colab": {
          "base_uri": "https://localhost:8080/",
          "height": 35
        },
        "id": "Chrn6hs_dK-a",
        "outputId": "242be1d5-f861-4d99-db4f-e05cd6c0503f"
      },
      "execution_count": 24,
      "outputs": [
        {
          "output_type": "execute_result",
          "data": {
            "text/plain": [
              "'llo '"
            ],
            "application/vnd.google.colaboratory.intrinsic+json": {
              "type": "string"
            }
          },
          "metadata": {},
          "execution_count": 24
        }
      ]
    },
    {
      "cell_type": "code",
      "source": [
        "list_1[:5]"
      ],
      "metadata": {
        "colab": {
          "base_uri": "https://localhost:8080/"
        },
        "id": "FzdwhAnQdfEv",
        "outputId": "820bf322-86a2-4366-8e91-7054a1752251"
      },
      "execution_count": 25,
      "outputs": [
        {
          "output_type": "execute_result",
          "data": {
            "text/plain": [
              "['String', 1, 4.56, {'key': 'Value'}, 123]"
            ]
          },
          "metadata": {},
          "execution_count": 25
        }
      ]
    },
    {
      "cell_type": "code",
      "source": [
        "list_1[3:4]"
      ],
      "metadata": {
        "colab": {
          "base_uri": "https://localhost:8080/"
        },
        "id": "SYSXuT8VdpYY",
        "outputId": "91ab9c56-7313-462d-9ae3-6bcf78fe595d"
      },
      "execution_count": 27,
      "outputs": [
        {
          "output_type": "execute_result",
          "data": {
            "text/plain": [
              "[{'key': 'Value'}]"
            ]
          },
          "metadata": {},
          "execution_count": 27
        }
      ]
    },
    {
      "cell_type": "markdown",
      "source": [
        "Tuples"
      ],
      "metadata": {
        "id": "ZZvoe5qed6qu"
      }
    },
    {
      "cell_type": "code",
      "source": [
        "Tuple1 = tuple(\"Geeks\")\n",
        "print(\"\\nFirst element of Tuple: \")\n",
        "print(Tuple1[0])"
      ],
      "metadata": {
        "colab": {
          "base_uri": "https://localhost:8080/"
        },
        "id": "acKBMK4od7vA",
        "outputId": "e9c713bf-ec2e-4835-afdd-36887efa732c"
      },
      "execution_count": 28,
      "outputs": [
        {
          "output_type": "stream",
          "name": "stdout",
          "text": [
            "\n",
            "First element of Tuple: \n",
            "G\n"
          ]
        }
      ]
    },
    {
      "cell_type": "code",
      "source": [
        "t1= (\"add\",\"sub\",\"mult\",80,9.789,{\"hey\":\"hi\"})\n",
        "# t1[3]\n",
        "# t1[-1]\n",
        "t1[1]=\"apple\""
      ],
      "metadata": {
        "colab": {
          "base_uri": "https://localhost:8080/",
          "height": 201
        },
        "id": "fNeVrHjIeVLo",
        "outputId": "c90c775f-1fa5-4eed-9213-a30efb7d9e84"
      },
      "execution_count": 35,
      "outputs": [
        {
          "output_type": "error",
          "ename": "TypeError",
          "evalue": "ignored",
          "traceback": [
            "\u001b[0;31m---------------------------------------------------------------------------\u001b[0m",
            "\u001b[0;31mTypeError\u001b[0m                                 Traceback (most recent call last)",
            "\u001b[0;32m<ipython-input-35-322425e31bde>\u001b[0m in \u001b[0;36m<module>\u001b[0;34m\u001b[0m\n\u001b[1;32m      2\u001b[0m \u001b[0;31m# t1[3]\u001b[0m\u001b[0;34m\u001b[0m\u001b[0;34m\u001b[0m\u001b[0;34m\u001b[0m\u001b[0m\n\u001b[1;32m      3\u001b[0m \u001b[0;31m# t1[-1]\u001b[0m\u001b[0;34m\u001b[0m\u001b[0;34m\u001b[0m\u001b[0;34m\u001b[0m\u001b[0m\n\u001b[0;32m----> 4\u001b[0;31m \u001b[0mt1\u001b[0m\u001b[0;34m[\u001b[0m\u001b[0;36m1\u001b[0m\u001b[0;34m]\u001b[0m\u001b[0;34m=\u001b[0m\u001b[0;34m\"apple\"\u001b[0m\u001b[0;34m\u001b[0m\u001b[0;34m\u001b[0m\u001b[0m\n\u001b[0m",
            "\u001b[0;31mTypeError\u001b[0m: 'tuple' object does not support item assignment"
          ]
        }
      ]
    },
    {
      "cell_type": "markdown",
      "source": [
        "Sets"
      ],
      "metadata": {
        "id": "RPGTbz8cfRvr"
      }
    },
    {
      "cell_type": "code",
      "source": [
        "s1=set(\"Code For India Foundation\")\n",
        "s1"
      ],
      "metadata": {
        "colab": {
          "base_uri": "https://localhost:8080/"
        },
        "id": "B1WGCQ8ngcql",
        "outputId": "b066aa67-99ad-4156-e68f-df8330030a6b"
      },
      "execution_count": 43,
      "outputs": [
        {
          "output_type": "execute_result",
          "data": {
            "text/plain": [
              "{' ', 'C', 'F', 'I', 'a', 'd', 'e', 'i', 'n', 'o', 'r', 't', 'u'}"
            ]
          },
          "metadata": {},
          "execution_count": 43
        }
      ]
    },
    {
      "cell_type": "code",
      "source": [
        "s2={\"Hey\",\"Hi\",\"Hi\",\"Ho\",\"hellooo\"}\n",
        "s2"
      ],
      "metadata": {
        "colab": {
          "base_uri": "https://localhost:8080/"
        },
        "id": "BEfuCd-qg7tt",
        "outputId": "5120b968-5ad0-4227-e4c0-bf1596d84b70"
      },
      "execution_count": 45,
      "outputs": [
        {
          "output_type": "execute_result",
          "data": {
            "text/plain": [
              "{'Hey', 'Hi', 'Ho', 'hellooo'}"
            ]
          },
          "metadata": {},
          "execution_count": 45
        }
      ]
    },
    {
      "cell_type": "markdown",
      "source": [
        "Dictionary"
      ],
      "metadata": {
        "id": "znDma1Que0Ao"
      }
    },
    {
      "cell_type": "code",
      "source": [
        "\n",
        "Dict = {1: 'Welcome', 2: 'to', 3: 'week3'}\n",
        "print(Dict)"
      ],
      "metadata": {
        "colab": {
          "base_uri": "https://localhost:8080/"
        },
        "id": "4gVM3XwZhVyz",
        "outputId": "0094642f-fd87-4452-e23f-4398d65c5492"
      },
      "execution_count": 46,
      "outputs": [
        {
          "output_type": "stream",
          "name": "stdout",
          "text": [
            "{1: 'Welcome', 2: 'to', 3: 'week3'}\n"
          ]
        }
      ]
    },
    {
      "cell_type": "code",
      "source": [
        "d1={\"Sunny\":[34,67,99],\n",
        "    \"Ram\":[87,99,76],\n",
        "    \"Ria\":[56,89,90]\n",
        "    }\n",
        "\n",
        "# d1[\"Sunny\"]\n",
        "# d1[\"Ria\"]\n",
        "\n",
        "# d1.keys()\n",
        "# d1.values()\n",
        "d1[\"Ram\"]=[67,90,39]\n",
        "d1"
      ],
      "metadata": {
        "colab": {
          "base_uri": "https://localhost:8080/"
        },
        "id": "WCYozspkh4Ga",
        "outputId": "46d88d17-1ca3-435a-dfdb-3ec73df36e42"
      },
      "execution_count": 58,
      "outputs": [
        {
          "output_type": "execute_result",
          "data": {
            "text/plain": [
              "{'Sunny': [34, 67, 99], 'Ram': [67, 90, 39], 'Ria': [56, 89, 90]}"
            ]
          },
          "metadata": {},
          "execution_count": 58
        }
      ]
    },
    {
      "cell_type": "code",
      "source": [
        "d1[\"Sunny\"][1]=55\n",
        "d1"
      ],
      "metadata": {
        "colab": {
          "base_uri": "https://localhost:8080/"
        },
        "id": "8C2B_ucyjyR1",
        "outputId": "d103b1a2-4a52-473f-95bd-8c3c4e749b95"
      },
      "execution_count": 59,
      "outputs": [
        {
          "output_type": "execute_result",
          "data": {
            "text/plain": [
              "{'Sunny': [34, 55, 99], 'Ram': [67, 90, 39], 'Ria': [56, 89, 90]}"
            ]
          },
          "metadata": {},
          "execution_count": 59
        }
      ]
    },
    {
      "cell_type": "markdown",
      "source": [
        "Nested Dictionaries"
      ],
      "metadata": {
        "id": "kcUnr3zgkCZG"
      }
    },
    {
      "cell_type": "code",
      "source": [
        "d2={\n",
        "    \"Sunny\":{\"math\":34 , \"science\":55, \"english\":99},\n",
        "    \"Ram\":{\"math\":67, \"science\": 90, \"english\":39},\n",
        "    \"Ria\":{\"math\":56,\"science\":89,\"english\":90}\n",
        "}\n",
        "d2[\"Ram\"][\"science\"]"
      ],
      "metadata": {
        "colab": {
          "base_uri": "https://localhost:8080/"
        },
        "id": "DxJy3UV_kIDS",
        "outputId": "8a642093-4831-408e-9991-2194b06d122b"
      },
      "execution_count": 62,
      "outputs": [
        {
          "output_type": "execute_result",
          "data": {
            "text/plain": [
              "90"
            ]
          },
          "metadata": {},
          "execution_count": 62
        }
      ]
    },
    {
      "cell_type": "code",
      "source": [
        "d2.values()"
      ],
      "metadata": {
        "colab": {
          "base_uri": "https://localhost:8080/"
        },
        "id": "Gq0LOpgTlH9G",
        "outputId": "9a87073b-73c6-4766-bf23-4ea1f48420fd"
      },
      "execution_count": 63,
      "outputs": [
        {
          "output_type": "execute_result",
          "data": {
            "text/plain": [
              "dict_values([{'math': 34, 'science': 55, 'english': 99}, {'math': 67, 'science': 90, 'english': 39}, {'math': 56, 'science': 89, 'english': 90}])"
            ]
          },
          "metadata": {},
          "execution_count": 63
        }
      ]
    },
    {
      "cell_type": "code",
      "source": [
        "d2[\"Ram\"][\"science\"]= 54\n",
        "d2[\"Ram\"]"
      ],
      "metadata": {
        "colab": {
          "base_uri": "https://localhost:8080/"
        },
        "id": "ZIl5dZ81lLkv",
        "outputId": "7cf7fddb-c362-423c-d426-5f4d65d9e01d"
      },
      "execution_count": 65,
      "outputs": [
        {
          "output_type": "execute_result",
          "data": {
            "text/plain": [
              "{'math': 67, 'science': 54, 'english': 39}"
            ]
          },
          "metadata": {},
          "execution_count": 65
        }
      ]
    },
    {
      "cell_type": "markdown",
      "source": [
        "Conditionals"
      ],
      "metadata": {
        "id": "u7ZrlO17mXZv"
      }
    },
    {
      "cell_type": "code",
      "source": [
        "i = 10\n",
        "  \n",
        "if (i > 15):\n",
        "    print(\"10 is less than 15\")\n",
        "\n",
        "\n",
        "\n",
        "print(\"I am Not in if\") #default "
      ],
      "metadata": {
        "colab": {
          "base_uri": "https://localhost:8080/"
        },
        "id": "vgE28xnqmW_C",
        "outputId": "255d53dc-b28f-42e1-e273-bbbdcb11f642"
      },
      "execution_count": 68,
      "outputs": [
        {
          "output_type": "stream",
          "name": "stdout",
          "text": [
            "I am Not in if\n"
          ]
        }
      ]
    },
    {
      "cell_type": "code",
      "source": [
        "# python program to illustrate nested If statement\n",
        "i = 10\n",
        "if (i == 10):\n",
        "\t\n",
        "\t# First if statement\n",
        "\tif (i < 15):\n",
        "\t\tprint(\"i is smaller than 15\")\n",
        "\t\t\n",
        "\t# Nested - if statement\n",
        "\t# Will only be executed if statement above\n",
        "\t# it is true\n",
        "\tif (i < 12):\n",
        "\t\tprint(\"i is smaller than 12 too\")\n",
        "\telse:\n",
        "\t\tprint(\"i is greater than 15\")\n"
      ],
      "metadata": {
        "colab": {
          "base_uri": "https://localhost:8080/"
        },
        "id": "HE1_Xf-Bm2Yb",
        "outputId": "10966bee-4200-4eac-e64e-315f6c821e2e"
      },
      "execution_count": 70,
      "outputs": [
        {
          "output_type": "stream",
          "name": "stdout",
          "text": [
            "i is smaller than 15\n",
            "i is smaller than 12 too\n"
          ]
        }
      ]
    },
    {
      "cell_type": "code",
      "source": [
        "# Python program to illustrate if-elif-else ladder\n",
        "\n",
        "i = int(input(\"Enter a value for i: \"))\n",
        "if (i == 10):\n",
        "\tprint(\"i is 10\")\n",
        "elif (i == 15):\n",
        "\tprint(\"i is 15\")\n",
        "elif (i == 20):\n",
        "\tprint(\"i is 20\")\n",
        "else:\n",
        "\tprint(\"i is not present\")\n"
      ],
      "metadata": {
        "colab": {
          "base_uri": "https://localhost:8080/"
        },
        "id": "oNKOfTkuncct",
        "outputId": "46594e6b-51f0-443a-cdd7-64f2ba96cec4"
      },
      "execution_count": 76,
      "outputs": [
        {
          "output_type": "stream",
          "name": "stdout",
          "text": [
            "Enter a value for i: 20\n",
            "i is not present\n"
          ]
        }
      ]
    },
    {
      "cell_type": "code",
      "source": [
        "list3=[\"Code\",\"For\",\"India\"]\n",
        "\n",
        "for element in list3:\n",
        "  print(element)\n"
      ],
      "metadata": {
        "colab": {
          "base_uri": "https://localhost:8080/"
        },
        "id": "bnxiPWbeoHa4",
        "outputId": "a2375fe1-74ee-4ea6-82bc-fbbeeb9aabfe"
      },
      "execution_count": 78,
      "outputs": [
        {
          "output_type": "stream",
          "name": "stdout",
          "text": [
            "Code\n",
            "For\n",
            "India\n"
          ]
        }
      ]
    },
    {
      "cell_type": "code",
      "source": [
        "d3={\n",
        "    \"a\":1,\n",
        "    \"b\":2,\n",
        "    \"c\":3\n",
        "    }\n",
        "for i in d3:\n",
        "  print(\"% s % d\" % (i, d3[i]))"
      ],
      "metadata": {
        "colab": {
          "base_uri": "https://localhost:8080/"
        },
        "id": "laE5qvY8pVsL",
        "outputId": "7d1aa7df-9df6-439d-a359-4c4368378b20"
      },
      "execution_count": 81,
      "outputs": [
        {
          "output_type": "stream",
          "name": "stdout",
          "text": [
            "a  1\n",
            "b  2\n",
            "c  3\n"
          ]
        }
      ]
    },
    {
      "cell_type": "code",
      "source": [
        "# n= int(input(\"enter the number n:\"))\n",
        "for i in range(1,10+1):#1 to 10\n",
        "  print(i)\n"
      ],
      "metadata": {
        "colab": {
          "base_uri": "https://localhost:8080/"
        },
        "id": "Vl57e70Rqk9p",
        "outputId": "ab51a475-b2fa-498a-a9f4-cd6aef8e678e"
      },
      "execution_count": 85,
      "outputs": [
        {
          "output_type": "stream",
          "name": "stdout",
          "text": [
            "1\n",
            "2\n",
            "3\n",
            "4\n",
            "5\n",
            "6\n",
            "7\n",
            "8\n",
            "9\n",
            "10\n"
          ]
        }
      ]
    },
    {
      "cell_type": "code",
      "source": [
        "count = 0\n",
        "while (count > 3):\n",
        "    # count = count + 1\n",
        "    print(\" hacktober\")\n",
        "    count+=1\n"
      ],
      "metadata": {
        "id": "VBg_ReCQsOW4"
      },
      "execution_count": 95,
      "outputs": []
    },
    {
      "cell_type": "code",
      "source": [
        "i = 0\n",
        "a = 'geeksforgeeks'\n",
        "  \n",
        "while i < len(a):\n",
        "    if a[i] == 'e' or a[i] == 's':\n",
        "        i += 1\n",
        "        break\n",
        "          \n",
        "    print('Current Letter :', a[i])\n",
        "    i += 1"
      ],
      "metadata": {
        "colab": {
          "base_uri": "https://localhost:8080/"
        },
        "id": "nAUenNFHtJ7w",
        "outputId": "c6e0d594-7113-4272-dea4-414bb52a7c7f"
      },
      "execution_count": 96,
      "outputs": [
        {
          "output_type": "stream",
          "name": "stdout",
          "text": [
            "Current Letter : g\n"
          ]
        }
      ]
    },
    {
      "cell_type": "markdown",
      "source": [
        "lambda functions"
      ],
      "metadata": {
        "id": "P0SYeSaUu-pT"
      }
    },
    {
      "cell_type": "code",
      "source": [
        "x =lambda a:a+10\n",
        "\n",
        "print(x(5))"
      ],
      "metadata": {
        "colab": {
          "base_uri": "https://localhost:8080/"
        },
        "id": "ZaaqKfXNu9HK",
        "outputId": "6459c6f2-7da8-460f-e44c-b70cf4b602eb"
      },
      "execution_count": 97,
      "outputs": [
        {
          "output_type": "stream",
          "name": "stdout",
          "text": [
            "15\n"
          ]
        }
      ]
    },
    {
      "cell_type": "code",
      "source": [
        "sum= lambda a,b,c : a+b+c\n",
        "sum(4,5,6)"
      ],
      "metadata": {
        "colab": {
          "base_uri": "https://localhost:8080/"
        },
        "id": "xhPnxDS7vcHX",
        "outputId": "6a15cfaa-8200-48f5-85d9-4614f7b36a05"
      },
      "execution_count": 98,
      "outputs": [
        {
          "output_type": "execute_result",
          "data": {
            "text/plain": [
              "15"
            ]
          },
          "metadata": {},
          "execution_count": 98
        }
      ]
    },
    {
      "cell_type": "code",
      "source": [
        "def my_function():\n",
        "  print(\"Hello from a function\")\n",
        "\n",
        "my_function()  "
      ],
      "metadata": {
        "colab": {
          "base_uri": "https://localhost:8080/"
        },
        "id": "48e8WsJ-vscr",
        "outputId": "e3639fb9-3ce4-4bed-d4a0-4a94b79310f9"
      },
      "execution_count": 100,
      "outputs": [
        {
          "output_type": "stream",
          "name": "stdout",
          "text": [
            "Hello from a function\n"
          ]
        }
      ]
    },
    {
      "cell_type": "code",
      "source": [
        "def my_name(fname):\n",
        "  print(fname+\" \"+\"hello!\")\n",
        "\n",
        "my_name(\"ABC\")\n"
      ],
      "metadata": {
        "colab": {
          "base_uri": "https://localhost:8080/"
        },
        "id": "OQL4zDFPwDw5",
        "outputId": "4f7c5fcd-8d98-48c1-e9e5-d6f8c94f4de9"
      },
      "execution_count": 106,
      "outputs": [
        {
          "output_type": "stream",
          "name": "stdout",
          "text": [
            "ABC hello!\n"
          ]
        }
      ]
    },
    {
      "cell_type": "code",
      "source": [
        "\n",
        "def mult_args(fname,lname, email, bookid):\n",
        "  print(\"Hello\"+ fname + \"We are very pleased to receive a booking from you\" + bookid)\n",
        "\n",
        "mult_args(fname=\"ABC\",lname=\"XYZ\",email=\"abc@abc\", bookid = \"123\")\n"
      ],
      "metadata": {
        "colab": {
          "base_uri": "https://localhost:8080/"
        },
        "id": "bpJH9yG4w2_w",
        "outputId": "120d2b91-a805-4744-9e32-1880d5027417"
      },
      "execution_count": 109,
      "outputs": [
        {
          "output_type": "stream",
          "name": "stdout",
          "text": [
            "HelloABCWe are very pleased to receive a booking from you123\n"
          ]
        }
      ]
    },
    {
      "cell_type": "markdown",
      "source": [
        "Local and global scope"
      ],
      "metadata": {
        "id": "dTNy9gm0yuXW"
      }
    },
    {
      "cell_type": "code",
      "source": [
        "a=15#global->default values\n",
        "def my_func():\n",
        "  a=5#local\n",
        "  print(a)\n",
        "\n",
        "def my_new_funct():\n",
        "  # a=10#local\n",
        "  print(a)\n",
        "\n",
        "my_func()\n",
        "my_new_funct()"
      ],
      "metadata": {
        "colab": {
          "base_uri": "https://localhost:8080/"
        },
        "id": "Uzg1faMIywdn",
        "outputId": "1505bc1d-1cde-467c-84fc-682d15e51c07"
      },
      "execution_count": 112,
      "outputs": [
        {
          "output_type": "stream",
          "name": "stdout",
          "text": [
            "5\n",
            "15\n"
          ]
        }
      ]
    },
    {
      "cell_type": "markdown",
      "source": [
        "Regex"
      ],
      "metadata": {
        "id": "mW0Pyoy20ERC"
      }
    },
    {
      "cell_type": "code",
      "source": [
        "import re\n",
        " \n",
        "sub = 'GeeksforGeeks: A computer science portal for geeks'\n",
        " \n",
        "match = re.search('portal', sub)\n",
        "print(match)\n",
        " \n",
        "print('Start Index:', match.start())\n",
        "print('End Index:', match.end())"
      ],
      "metadata": {
        "colab": {
          "base_uri": "https://localhost:8080/"
        },
        "id": "WAvczqiy0Fll",
        "outputId": "69e93f2c-55cd-4218-c04e-13de82621240"
      },
      "execution_count": 117,
      "outputs": [
        {
          "output_type": "stream",
          "name": "stdout",
          "text": [
            "<re.Match object; span=(34, 40), match='portal'>\n",
            "Start Index: 34\n",
            "End Index: 40\n"
          ]
        }
      ]
    }
  ]
}